{
 "cells": [
  {
   "cell_type": "markdown",
   "metadata": {},
   "source": [
    "# Getting tweets by the search method"
   ]
  },
  {
   "cell_type": "markdown",
   "metadata": {},
   "source": [
    "You may need to install the package 'pyquery'\n",
    "\n",
    "This is how to install a pip package in the current Jupyter kernel:\n",
    "\n",
    "(uncomment what you need to run)"
   ]
  },
  {
   "cell_type": "code",
   "execution_count": 8,
   "metadata": {},
   "outputs": [],
   "source": [
    "#import sys\n",
    "#!{sys.executable} -m pip install --upgrade pip\n",
    "#!{sys.executable} -m pip install pyquery"
   ]
  },
  {
   "cell_type": "code",
   "execution_count": 9,
   "metadata": {},
   "outputs": [],
   "source": [
    "import GetOldTweets.got3 as got\n",
    "import sys"
   ]
  },
  {
   "cell_type": "code",
   "execution_count": 19,
   "metadata": {
    "collapsed": true
   },
   "outputs": [],
   "source": [
    "#max nb of tweets\n",
    "n=30"
   ]
  },
  {
   "cell_type": "code",
   "execution_count": 20,
   "metadata": {
    "collapsed": true
   },
   "outputs": [],
   "source": [
    "tweetCriteria = got.manager.TweetCriteria().setUsername('realDonaldTrump')\\\n",
    "                .setQuerySearch('leak').setMaxTweets(n)\n",
    "#.setSince(\"2015-09-10\")"
   ]
  },
  {
   "cell_type": "code",
   "execution_count": 23,
   "metadata": {
    "scrolled": false
   },
   "outputs": [
    {
     "name": "stdout",
     "output_type": "stream",
     "text": [
      "0 - So, the Democrats make up a phony crime, Collusion with the Russians, pay a fortune to make the crime sound real, illegally leak (Comey) classified information so that a Special Councel will be appointed, and then Collude to make this pile of garbage take on life in Fake News!\n",
      "=> 2018-06-14 17:08:51\n",
      "\n",
      "1 - The so-called leaks coming out of the White House are a massive over exaggeration put out by the Fake News Media in order to make us look as bad as possible. With that being said, leakers are traitors and cowards, and we will find out who they are!\n",
      "=> 2018-05-14 22:46:25\n",
      "\n",
      "2 - “Clapper lied about (fraudulent) Dossier leaks to CNN” @ foxandfriends FoxNews He is a lying machine who now works for Fake News CNN.\n",
      "=> 2018-04-28 14:58:18\n",
      "\n",
      "3 - Is everybody believing what is going on. James Comey can’t define what a leak is. He illegally leaked CLASSIFIED INFORMATION but doesn’t understand what he did or how serious it is. He lied all over the place to cover it up. He’s either very sick or very dumb. Remember sailor!\n",
      "=> 2018-04-27 12:26:35\n",
      "\n",
      "4 - So General Michael Flynn’s life can be totally destroyed while Shadey James Comey can Leak and Lie and make lots of money from a third rate book (that should never have been written). Is that really the way life in America is supposed to work? I don’t think so!\n",
      "=> 2018-04-20 12:34:16\n",
      "\n",
      "5 - The Fake News is beside themselves that McCabe was caught, called out and fired. How many hundreds of thousands of dollars was given to wife’s campaign by Crooked H friend, Terry M, who was also under investigation? How many lies? How many leaks? Comey knew it all, and much more!\n",
      "=> 2018-03-17 18:34:21\n",
      "\n",
      "6 - Little Adam Schiff, who is desperate to run for higher office, is one of the biggest liars and leakers in Washington, right up there with Comey, Warner, Brennan and Clapper! Adam leaves closed committee hearings to illegally leak confidential information. Must be stopped!\n",
      "=> 2018-02-05 13:39:10\n",
      "\n",
      "7 - After many years of LEAKS going on in Washington, it is great to see the A.G. taking action! For National Security, the tougher the better!\n",
      "=> 2017-08-06 00:58:17\n",
      "\n",
      "8 - While all agree the U. S. President has the complete power to pardon, why think of that when only crime so far is LEAKS against us.FAKE NEWS\n",
      "=> 2017-07-22 13:35:34\n",
      "\n",
      "9 - A new INTELLIGENCE LEAK from the Amazon Washington Post,this time against A.G. Jeff Sessions.These illegal leaks, like Comey's, must stop!\n",
      "=> 2017-07-22 12:33:01\n",
      "\n",
      "10 - I believe the James Comey leaks will be far more prevalent than anyone ever thought possible. Totally illegal? Very 'cowardly!'\n",
      "=> 2017-06-11 14:29:46\n",
      "\n",
      "11 - It is my opinion that many of the leaks coming out of the White House are fabricated lies made up by the # FakeNews media.\n",
      "=> 2017-05-28 14:33:03\n",
      "\n",
      "12 - ...is all of the illegal leaks of classified and other information. It is a total \"witch hunt!\"\n",
      "=> 2017-03-03 03:38:48\n",
      "\n",
      "13 - Russia talk is FAKE NEWS put out by the Dems, and played up by the media, in order to mask the big election defeat and the illegal leaks!\n",
      "=> 2017-02-26 19:16:41\n",
      "\n",
      "14 - The real story here is why are there so many illegal leaks coming out of Washington? Will these leaks be happening as I deal on N.Korea etc?\n",
      "=> 2017-02-14 15:28:54\n",
      "\n",
      "15 - Intelligence agencies should never have allowed this fake news to \"leak\" into the public. One last shot at me.Are we living in Nazi Germany?\n",
      "=> 2017-01-11 13:48:52\n",
      "\n",
      "16 - It’s Tuesday. How many more ‘The View’ Execs will leak that they want @ rosie gone? Show is failing.\n",
      "=> 2014-12-02 22:36:51\n",
      "\n",
      "17 - Another must read from Jeffrey Lord @ amspec: “Rove Email Leaks: Ideological War Opens in GOP” http://bit.ly/YTZQIO\n",
      "=> 2013-02-12 21:40:22\n",
      "\n",
      "18 - Between Libya, the national security leaks and Fast & Furious, Obama has had more national security scandals than any other President.\n",
      "=> 2012-10-16 20:20:35\n",
      "\n",
      "19 - Whatever happened to Obama's 'independent investigation' into national security leaks from his administration? Where's the media?\n",
      "=> 2012-09-11 20:20:20\n",
      "\n",
      "20 - Military reps have attacked @ BarackObama over Bin Laden leaks--they believe he's just using this for his benefit. Not a big surprise...\n",
      "=> 2012-08-16 17:14:11\n",
      "\n",
      "21 - All the national security leaks coming from @ BarackObama's @ whitehouse were clearly made for political gain. Where's the outrage!?\n",
      "=> 2012-07-27 22:30:19\n",
      "\n",
      "22 - Just as I predicted, @ BarackObama has not allowed an independent investigation into the national security leaks from his cabinet.\n",
      "=> 2012-07-27 22:24:34\n",
      "\n",
      "23 - It is terrible that @ BarackObama did not appoint an independent counsel to investigate the national security leaks. No accountability.\n",
      "=> 2012-06-27 21:24:49\n",
      "\n",
      "24 - CORRUPT--with the national security leaks and Fast & Furious, there are clearly at least two cover ups in @ BarackObama's White House.\n",
      "=> 2012-06-20 21:56:02\n",
      "\n",
      "25 - Yesterday there was yet another massive intelligence leak by the @ BarackObama administration. http://wapo.st/M4FEQY\n",
      "=> 2012-06-20 21:52:23\n",
      "\n",
      "26 - The Justice Department's investigation into the national security leaks is not independent. This is a very grave situation.\n",
      "=> 2012-06-11 22:06:26\n",
      "\n"
     ]
    }
   ],
   "source": [
    "for i in range(n):\n",
    "    try:\n",
    "        tweet = got.manager.TweetManager.getTweets(tweetCriteria)[i]\n",
    "    except:\n",
    "        break\n",
    "    else:\n",
    "        print(i, '-', tweet.text)\n",
    "        print('=>', tweet.date)\n",
    "        print()\n"
   ]
  },
  {
   "cell_type": "code",
   "execution_count": null,
   "metadata": {
    "collapsed": true
   },
   "outputs": [],
   "source": []
  },
  {
   "cell_type": "code",
   "execution_count": null,
   "metadata": {
    "collapsed": true
   },
   "outputs": [],
   "source": []
  },
  {
   "cell_type": "code",
   "execution_count": null,
   "metadata": {
    "collapsed": true
   },
   "outputs": [],
   "source": []
  },
  {
   "cell_type": "code",
   "execution_count": null,
   "metadata": {
    "collapsed": true
   },
   "outputs": [],
   "source": []
  }
 ],
 "metadata": {
  "kernelspec": {
   "display_name": "Python 3",
   "language": "python",
   "name": "python3"
  },
  "language_info": {
   "codemirror_mode": {
    "name": "ipython",
    "version": 3
   },
   "file_extension": ".py",
   "mimetype": "text/x-python",
   "name": "python",
   "nbconvert_exporter": "python",
   "pygments_lexer": "ipython3",
   "version": "3.5.3"
  }
 },
 "nbformat": 4,
 "nbformat_minor": 2
}
