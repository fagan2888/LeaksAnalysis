{
 "cells": [
  {
   "cell_type": "markdown",
   "metadata": {},
   "source": [
    "# Getting tweets by API method"
   ]
  },
  {
   "cell_type": "markdown",
   "metadata": {},
   "source": [
    "You may need to install the package 'tweepy'\n",
    "\n",
    "This is how to install a pip package in the current Jupyter kernel:\n",
    "\n",
    "(uncomment what you need to run)"
   ]
  },
  {
   "cell_type": "code",
   "execution_count": 7,
   "metadata": {
    "collapsed": true
   },
   "outputs": [],
   "source": [
    "#import sys\n",
    "#!{sys.executable} -m pip install --upgrade pip\n",
    "#!{sys.executable} -m pip install tweepy"
   ]
  },
  {
   "cell_type": "markdown",
   "metadata": {},
   "source": [
    "Now import all the packages needed"
   ]
  },
  {
   "cell_type": "code",
   "execution_count": 8,
   "metadata": {
    "collapsed": true
   },
   "outputs": [],
   "source": [
    "import tweepy\n",
    "import json\n",
    "import requests\n",
    "import re\n",
    "from bs4 import BeautifulSoup"
   ]
  },
  {
   "cell_type": "markdown",
   "metadata": {},
   "source": [
    "# Here starts the real code:"
   ]
  },
  {
   "cell_type": "code",
   "execution_count": 9,
   "metadata": {
    "collapsed": true
   },
   "outputs": [],
   "source": [
    "# Specify the account credentials in the following variables:\n",
    "consumer_key = ''\n",
    "consumer_secret = ''\n",
    "access_token = ''\n",
    "access_token_secret = ''"
   ]
  },
  {
   "cell_type": "markdown",
   "metadata": {},
   "source": [
    "*Tweeter api info:*\n",
    "https://apps.twitter.com/app/15327933/settings"
   ]
  },
  {
   "cell_type": "code",
   "execution_count": 10,
   "metadata": {
    "collapsed": true
   },
   "outputs": [],
   "source": [
    "# Authenticate\n",
    "auth = tweepy.OAuthHandler(consumer_key, consumer_secret)\n",
    "auth.set_access_token(access_token, access_token_secret)"
   ]
  },
  {
   "cell_type": "code",
   "execution_count": 41,
   "metadata": {},
   "outputs": [
    {
     "name": "stdout",
     "output_type": "stream",
     "text": [
      "44\n"
     ]
    }
   ],
   "source": [
    "# API object\n",
    "api = tweepy.API(auth)\n",
    "res = api.search(\"leak%20from%3ArealDonaldTrump\", count=50)\n",
    "print(len(res))"
   ]
  },
  {
   "cell_type": "code",
   "execution_count": 45,
   "metadata": {
    "scrolled": false
   },
   "outputs": [
    {
     "name": "stdout",
     "output_type": "stream",
     "text": [
      "True\n",
      ">>> Subpoena the emails of super important members of Congress, you say? Gee why would Sessions and Rosenstein being doing that?  \n",
      "\n",
      "\n",
      "#LeakHunt #LeakHunting #HiHoHiHoALeakHuntingWeWillGo #SenatorPerpWalks #LeakHunters #YouWereSeriousBoutDat? #LeakBroker #Middlemanpic.twitter.com/6EuD5ieXLM\n",
      "2018-06-13 05:10:56\n",
      "\n",
      "False\n",
      ">>> b\"RT @JoR3LofKrypton: @thehill ../ comes in response to a motion from Manafort's team seeking more information../\\n\\n.. guess it was #DavidDenn\"\n",
      "2018-06-13 04:59:23\n",
      "\n",
      "False\n",
      ">>> Judge rules Mueller must identify unnamed individuals in Manafort indictment http://hill.cm/Fb6Ojnd pic.twitter.com/ttNxTHtJ3p\n",
      "2018-06-13 04:56:40\n",
      "\n",
      "False\n",
      ">>> b\"RT @thelawanon: @drawandstrike @MadVoterInMN Some people question AG Sessions, I don't believe @POTUS @realDonaldTrump does, despite the Mr\"\n",
      "2018-06-13 04:24:58\n",
      "\n",
      "True\n",
      ">>> Subpoena the emails of super important members of Congress, you say? Gee why would Sessions and Rosenstein being doing that?  \n",
      "\n",
      "\n",
      "#LeakHunt #LeakHunting #HiHoHiHoALeakHuntingWeWillGo #SenatorPerpWalks #LeakHunters #YouWereSeriousBoutDat? #LeakBroker #Middlemanpic.twitter.com/6EuD5ieXLM\n",
      "2018-06-13 04:20:22\n",
      "\n",
      "True\n",
      ">>> b'@realDonaldTrump @AlertTrade Hahaha. KGB alert!!! I got your file tRump.... I will leak your history from 1993 ACCIDENT'\n",
      "2018-06-13 00:38:50\n",
      "\n",
      "True\n",
      ">>> But who leaks the stuff @realDonaldTrump orders to leak? Same person?\n",
      "\n",
      "Any word from the #TwoDictatorsSummit about starting a 4D Group? Four Dictators Group (USA, Russia, China, North Korea)? Or maybe a “Presidents For Life Group”? Dear Leader Group?http://www.businessinsider.com/trump-leaks-leakers-2018-6 …\n",
      "2018-06-12 15:25:14\n",
      "\n",
      "False\n",
      ">>> The fact that I am having a meeting is a major loss for the U.S., say the haters & losers. We have our hostages, testing, research and all missle launches have stoped, and these pundits, who have called me wrong from the beginning, have nothing else they can say! We will be fine!\n",
      "2018-06-12 00:05:44\n",
      "\n",
      "True\n",
      ">>> Lying leaking James Wolfe the most recent of anti-Trump leakers is only the tip of the spear LOOK CLOSER INTO THE SENATE THAT'S WHERE THE ORDERS AS TO WHICH DOCUMENTS TO LEAK CAME FROM! \n",
      "\n",
      "1 of 27  #AllFallDown\n",
      " \n",
      "@realDonaldTrump \n",
      "@PressSec \n",
      "2018-06-11 20:56:02\n",
      "\n",
      "False\n",
      ">>> “Just tell us what Vladimir has on you. Maybe we can help.”pic.twitter.com/DLc7YJFXqT\n",
      "2018-06-11 19:36:49\n",
      "\n",
      "False\n",
      ">>> ....Germany pays 1% (slowly) of GDP towards NATO, while we pay 4% of a MUCH larger GDP. Does anybody believe that makes sense? We protect Europe (which is good) at great financial loss, and then get unfairly clobbered on Trade. Change is coming!\n",
      "2018-06-11 11:22:34\n",
      "\n",
      "True\n",
      ">>> What I've learnt from this:-\n",
      "\n",
      "No matter how successful you are, shut the fuck up & be humble. Sometimes talking about your success can be a leak of vital info.. learn to close thy mouth.. Always.. be brief and don't spill figures\n",
      "\n",
      "Imagine what's gonna happen to Canada after thishttps://twitter.com/realDonaldTrump/status/1005979207544000512 …\n",
      "2018-06-11 08:33:13\n",
      "\n",
      "False\n",
      ">>> The thing is, I was at the @JustinTrudeau news conference, and he went out of his way to try to downplay tensions. He didn’t attack @realDonaldTrump in any way, other than restate Canada would retaliate for tariffs. Not sure what @larry_kudlow means re: “stabbed” US in the back\n",
      "2018-06-11 00:17:08\n",
      "\n",
      "False\n",
      ">>> I am on my way to Singapore where we have a chance to achieve a truly wonderful result for North Korea and the World. It will certainly be an exciting day and I know that Kim Jong-un will work very hard to do something that has rarely been done before...\n",
      "2018-06-11 00:08:36\n",
      "\n",
      "False\n",
      ">>> b'RT @HavokHawk: @WalterLiveOak @viewsfromleft @KellyBo97062014 @McentyreBarbara @tryingtoshit @ealmars @JohnBrennan @realDonaldTrump Yes in'\n",
      "2018-06-10 23:06:04\n",
      "\n",
      "False\n",
      ">>> Photo I chose when I left Fox. This is my goodbye to Jesse Waters (actually a good guy who is a lemming never doubting Trump. U r too smart for that Jesse. Farewell Fox its been a trip accept some 5 shows at 4 v 1 I felt light the only fire hydrant at the Westminster Dog Show!pic.twitter.com/dGzwFJGdsC\n",
      "2018-06-10 21:28:01\n",
      "\n",
      "False\n",
      ">>> b'RT @heliosiamallfa1: @PradRachael @joyreaper @POTUS @realDonaldTrump @RepMattGaetz @RepGoodlatte @MariaBartiromo @RepMarkMeadows @Jim_Jorda'\n",
      "2018-06-10 19:55:57\n",
      "\n",
      "False\n",
      ">>> Your wrong-headed protectionist policies & antics are damaging our global standing as well as our national interests. Your worldview does not represent American ideals. To allies & friends: Be patient, Mr. Trump is a temporary aberration. The America you once knew will return.https://twitter.com/realdonaldtrump/status/1005586562959093760 …\n",
      "2018-06-10 19:29:10\n",
      "\n",
      "True\n",
      ">>> b\"RT @kafferf: @realDonaldTrump Hmmm! That is more a play from the Trump playbook. Mueller's team does not leak. Your team, on the other hand\"\n",
      "2018-06-10 17:47:48\n",
      "\n",
      "True\n",
      ">>> b\"RT @yesitismine: @DalyPolitics @sunriseon7 @suigenerisjen Assange released, 'shared' a Leak from an INSIDER of the DNC. Which showed all, o\"\n",
      "2018-06-10 17:42:37\n",
      "\n",
      "False\n",
      ">>> b'RT @Silva21Maricela: HUGE conflict of interest with (RR) Rod Rosenstein as he is biased against @realDonaldTrump.His wife, Lisa Barsoomian'\n",
      "2018-06-10 15:27:58\n",
      "\n",
      "False\n",
      ">>> Since Congress has been asking for the IG Report for months & the DOJ keeps stalling & the FBI keeps redacting names, is it time for .@realDonaldTrump to declassify the report & get it to Congress & the American people? Please Vote, retweet & reply. Thank you.\n",
      "2018-06-10 14:34:02\n",
      "\n",
      "False\n",
      ">>>  McCain you don’t speak for WE THE PEOPLE\n",
      "⁦@SenJohnMcCain⁩http://thehill.com/homenews/senate/391524-mccain-takes-jab-at-trump-over-trade-tells-allies-americans-stand-with-you …\n",
      "2018-06-10 13:36:35\n",
      "\n",
      "True\n",
      ">>> b\"RT @kafferf: @realDonaldTrump Hmmm! That is more a play from the Trump playbook. Mueller's team does not leak. Your team, on the other hand\"\n",
      "2018-06-10 13:16:20\n",
      "\n",
      "False\n",
      ">>> @CNNLIVE_ stop Speculating. You Know NOTHING. Just Because nobody talk to you anymore due the illegal LEAK you paid for. @realDonaldTrump will get from the North Korea meeting what NO ONE expects.\n",
      "2018-06-10 11:27:53\n",
      "\n",
      "False\n",
      ">>> b'RT @Silva21Maricela: HUGE conflict of interest with (RR) Rod Rosenstein as he is biased against @realDonaldTrump.His wife, Lisa Barsoomian'\n",
      "2018-06-10 10:57:16\n",
      "\n",
      "False\n",
      ">>> b'RT @Silva21Maricela: HUGE conflict of interest with (RR) Rod Rosenstein as he is biased against @realDonaldTrump.His wife, Lisa Barsoomian'\n",
      "2018-06-10 08:34:17\n",
      "\n",
      "False\n",
      ">>> b'RT @Silva21Maricela: HUGE conflict of interest with (RR) Rod Rosenstein as he is biased against @realDonaldTrump.His wife, Lisa Barsoomian'\n",
      "2018-06-10 06:56:50\n",
      "\n",
      "False\n",
      ">>> PM Justin Trudeau of Canada acted so meek and mild during our @G7 meetings only to give a news conference after I left saying that, “US Tariffs were kind of insulting” and he “will not be pushed around.” Very dishonest & weak. Our Tariffs are in response to his of 270% on dairy!\n",
      "2018-06-10 06:04:14\n",
      "\n",
      "True\n",
      ">>> Trump's people easily could have leaked this. Go away, Brian. You're a partisan hack, not a journalist\n",
      "2018-06-10 06:02:42\n",
      "\n",
      "False\n",
      ">>> b'RT @Silva21Maricela: HUGE conflict of interest with (RR) Rod Rosenstein as he is biased against @realDonaldTrump.His wife, Lisa Barsoomian'\n",
      "2018-06-10 04:36:26\n",
      "\n",
      "False\n",
      ">>> b'RT @Silva21Maricela: HUGE conflict of interest with (RR) Rod Rosenstein as he is biased against @realDonaldTrump.His wife, Lisa Barsoomian'\n",
      "2018-06-10 04:29:08\n",
      "\n",
      "False\n",
      ">>> b'RT @Silva21Maricela: HUGE conflict of interest with (RR) Rod Rosenstein as he is biased against @realDonaldTrump.His wife, Lisa Barsoomian'\n",
      "2018-06-10 03:27:39\n",
      "\n",
      "False\n",
      ">>> b'RT @Silva21Maricela: HUGE conflict of interest with (RR) Rod Rosenstein as he is biased against @realDonaldTrump.His wife, Lisa Barsoomian'\n",
      "2018-06-10 03:23:59\n",
      "\n",
      "True\n",
      ">>> \"I find the Australian Governments position entirely unacceptable and one that makes me ashamed to be Australian.” says @suigenerisjen.\n",
      "\n",
      "Australian officials visited @JulianAssange, founder of @wikileaks, for the first time in 6 years.pic.twitter.com/iKDJVsqkxO\n",
      "2018-06-10 03:03:23\n",
      "\n",
      "False\n",
      ">>> b'RT @Silva21Maricela: HUGE conflict of interest with (RR) Rod Rosenstein as he is biased against @realDonaldTrump.His wife, Lisa Barsoomian'\n",
      "2018-06-10 02:39:38\n",
      "\n",
      "False\n",
      ">>> b'RT @Silva21Maricela: HUGE conflict of interest with (RR) Rod Rosenstein as he is biased against @realDonaldTrump.His wife, Lisa Barsoomian'\n",
      "2018-06-10 01:49:01\n",
      "\n",
      "False\n",
      ">>> b'RT @Silva21Maricela: HUGE conflict of interest with (RR) Rod Rosenstein as he is biased against @realDonaldTrump.His wife, Lisa Barsoomian'\n",
      "2018-06-10 01:35:27\n",
      "\n",
      "False\n",
      ">>> b'RT @Silva21Maricela: HUGE conflict of interest with (RR) Rod Rosenstein as he is biased against @realDonaldTrump.His wife, Lisa Barsoomian'\n",
      "2018-06-10 01:31:18\n",
      "\n",
      "False\n",
      ">>> b'RT @Silva21Maricela: HUGE conflict of interest with (RR) Rod Rosenstein as he is biased against @realDonaldTrump.His wife, Lisa Barsoomian'\n",
      "2018-06-10 01:30:31\n",
      "\n",
      "False\n",
      ">>> b'RT @Silva21Maricela: HUGE conflict of interest with (RR) Rod Rosenstein as he is biased against @realDonaldTrump.His wife, Lisa Barsoomian'\n",
      "2018-06-10 01:19:18\n",
      "\n",
      "False\n",
      ">>> b'RT @Silva21Maricela: HUGE conflict of interest with (RR) Rod Rosenstein as he is biased against @realDonaldTrump.His wife, Lisa Barsoomian'\n",
      "2018-06-10 01:10:53\n",
      "\n"
     ]
    },
    {
     "name": "stdout",
     "output_type": "stream",
     "text": [
      "True\n",
      ">>> This is the dumbest move I've seen any government make. Ever.\n",
      "Mocking @realDonaldTrump by leaking to the reporter and network he hates the most might make Liberals feel good but Canadian workers will feel the pain from this. #cdnpolihttp://brianlilley.com/how-insanely-stupid-is-justin-trudeaus-team/ …\n",
      "2018-06-10 00:59:55\n",
      "\n",
      "False\n",
      ">>> b'RT @Silva21Maricela: HUGE conflict of interest with (RR) Rod Rosenstein as he is biased against @realDonaldTrump.His wife, Lisa Barsoomian'\n",
      "2018-06-10 00:14:10\n",
      "\n"
     ]
    }
   ],
   "source": [
    "for r in res:\n",
    "    #print(r.text.encode('ascii', 'ignore'))\n",
    "    if r.truncated:\n",
    "        try:\n",
    "            req = requests.get(r.entities['urls'][0]['expanded_url'])\n",
    "            #print(req.url)\n",
    "            soup=BeautifulSoup(req.text, 'lxml')\n",
    "            txt=soup.find('p', class_=re.compile('tweet-text')).text\n",
    "        except:\n",
    "            print(\"can't get full tweet\")\n",
    "    else:\n",
    "        txt=r.text.encode('ascii', 'ignore')\n",
    "    print('leak' in str(txt) or 'Leak' in str(txt))\n",
    "    print('>>>', txt)\n",
    "    print(r.created_at)\n",
    "    print()\n"
   ]
  },
  {
   "cell_type": "code",
   "execution_count": null,
   "metadata": {
    "collapsed": true
   },
   "outputs": [],
   "source": []
  },
  {
   "cell_type": "code",
   "execution_count": null,
   "metadata": {
    "collapsed": true
   },
   "outputs": [],
   "source": []
  },
  {
   "cell_type": "code",
   "execution_count": null,
   "metadata": {
    "collapsed": true
   },
   "outputs": [],
   "source": []
  },
  {
   "cell_type": "code",
   "execution_count": null,
   "metadata": {
    "collapsed": true
   },
   "outputs": [],
   "source": []
  },
  {
   "cell_type": "code",
   "execution_count": null,
   "metadata": {
    "collapsed": true
   },
   "outputs": [],
   "source": []
  },
  {
   "cell_type": "code",
   "execution_count": null,
   "metadata": {
    "collapsed": true
   },
   "outputs": [],
   "source": []
  }
 ],
 "metadata": {
  "kernelspec": {
   "display_name": "Python 3",
   "language": "python",
   "name": "python3"
  },
  "language_info": {
   "codemirror_mode": {
    "name": "ipython",
    "version": 3
   },
   "file_extension": ".py",
   "mimetype": "text/x-python",
   "name": "python",
   "nbconvert_exporter": "python",
   "pygments_lexer": "ipython3",
   "version": "3.5.3"
  }
 },
 "nbformat": 4,
 "nbformat_minor": 2
}
