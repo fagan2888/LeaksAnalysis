{
 "cells": [
  {
   "cell_type": "markdown",
   "metadata": {},
   "source": [
    "# Getting tweets by the search method with library"
   ]
  },
  {
   "cell_type": "markdown",
   "metadata": {},
   "source": [
    "You may need to install the package 'pyquery'\n",
    "\n",
    "This is how to install a pip package in the current Jupyter kernel:\n",
    "\n",
    "(uncomment what you need to run)"
   ]
  },
  {
   "cell_type": "code",
   "execution_count": 1,
   "metadata": {
    "collapsed": true
   },
   "outputs": [],
   "source": [
    "#import sys\n",
    "#!{sys.executable} -m pip install --upgrade pip\n",
    "#!{sys.executable} -m pip install pyquery"
   ]
  },
  {
   "cell_type": "code",
   "execution_count": 2,
   "metadata": {
    "collapsed": true
   },
   "outputs": [],
   "source": [
    "import GetOldTweets.got3 as got\n",
    "import sys\n",
    "import re"
   ]
  },
  {
   "cell_type": "code",
   "execution_count": 3,
   "metadata": {
    "collapsed": true
   },
   "outputs": [],
   "source": [
    "#max nb of tweets\n",
    "n=30"
   ]
  },
  {
   "cell_type": "code",
   "execution_count": 4,
   "metadata": {
    "collapsed": true
   },
   "outputs": [],
   "source": [
    "tweetCriteria = got.manager.TweetCriteria().setUsername('realDonaldTrump')\\\n",
    "                .setQuerySearch('leak').setMaxTweets(n)\n",
    "#.setSince(\"2015-09-10\")"
   ]
  },
  {
   "cell_type": "code",
   "execution_count": 38,
   "metadata": {
    "scrolled": false
   },
   "outputs": [
    {
     "name": "stdout",
     "output_type": "stream",
     "text": [
      "id | twitter handle | keyword | text | date | tuple of hashtags found in tweet | tuple of @'s found in tweet\n",
      "\n",
      "0 | realDonaldTrump | leak | So, the Democrats make up a phony crime, Collusion with the Russians, pay a fortune to make the crime sound real, illegally leak (Comey) classified information so that a Special Councel will be appointed, and then Collude to make this pile of garbage take on life in Fake News! | 2018-06-14 17:08:51 | [] | []\n",
      "\n"
     ]
    }
   ],
   "source": [
    "def get_data(user_name, search_word='leak', sep=' | ', maxi=10, verbose=False, top=False, since=None):\n",
    "    if since is None:\n",
    "        tweetCriteria = got.manager.TweetCriteria().setUsername(user_name)\\\n",
    "                .setQuerySearch(search_word).setMaxTweets(maxi)\n",
    "    else:\n",
    "        tweetCriteria = got.manager.TweetCriteria().setUsername(user_name)\\\n",
    "                .setQuerySearch(search_word).setMaxTweets(maxi).setSince(since)\n",
    "    \n",
    "    out=''\n",
    "    if top:\n",
    "        out+= 'id'+sep+'twitter handle'+sep+'keyword'+sep+'text'+sep+'date'+sep+'tuple of hashtags found in tweet'+sep\\\n",
    "        +\"tuple of @'s found in tweet\\n\"\n",
    "        if verbose:\n",
    "            print(out)\n",
    "    \n",
    "    if maxi==0:\n",
    "        finished=False\n",
    "        i=0\n",
    "        while not finished:\n",
    "            try:\n",
    "                tweet = got.manager.TweetManager.getTweets(tweetCriteria)[i]\n",
    "            except:\n",
    "                finished=True\n",
    "            else:\n",
    "                i+=1\n",
    "                txt = tweet.text\n",
    "                hashtags = re.findall(r'# [^\\ ]*', txt)\n",
    "                ats = re.findall(r'@ [^\\ ]*', txt)\n",
    "                if verbose:\n",
    "                    print(str(i)+sep+user_name+sep+search_word+sep+str(txt)+sep+str(tweet.date)+sep+str(hashtags)+sep+str(ats))\n",
    "                out+= str(i)+sep+user_name+sep+search_word+sep+str(txt)+sep+str(tweet.date)+sep+str(hashtags)+sep+str(ats)+'\\n'\n",
    "    \n",
    "    else:\n",
    "        for i in range(maxi):\n",
    "            try:\n",
    "                tweet = got.manager.TweetManager.getTweets(tweetCriteria)[i]\n",
    "            except:\n",
    "                print(i, '-', sys.exc_info()[0])\n",
    "            else:\n",
    "                txt = tweet.text\n",
    "                hashtags = re.findall(r'# [^\\ ]*', txt)\n",
    "                ats = re.findall(r'@ [^\\ ]*', txt)\n",
    "                if verbose:\n",
    "                    print(str(i)+sep+user_name+sep+search_word+sep+str(txt)+sep+str(tweet.date)+sep+str(hashtags)+sep+str(ats))\n",
    "                out+= str(i)+sep+user_name+sep+search_word+sep+str(txt)+sep+str(tweet.date)+sep+str(hashtags)+sep+str(ats)+'\\n'\n",
    "\n",
    "    \n",
    "    return out\n",
    "\n",
    "get_data('realDonaldTrump', maxi=1, verbose=True, top=True)\n",
    "print()"
   ]
  },
  {
   "cell_type": "code",
   "execution_count": 49,
   "metadata": {},
   "outputs": [],
   "source": [
    "n=0\n",
    "file=open('leaks tweets', 'w')"
   ]
  },
  {
   "cell_type": "code",
   "execution_count": 50,
   "metadata": {},
   "outputs": [
    {
     "name": "stdout",
     "output_type": "stream",
     "text": [
      "id | twitter handle | keyword | text | date | tuple of hashtags found in tweet | tuple of @'s found in tweet\n",
      "\n",
      "1 | realDonaldTrump | leak | So, the Democrats make up a phony crime, Collusion with the Russians, pay a fortune to make the crime sound real, illegally leak (Comey) classified information so that a Special Councel will be appointed, and then Collude to make this pile of garbage take on life in Fake News! | 2018-06-14 17:08:51 | [] | []\n",
      "2 | realDonaldTrump | leak | The so-called leaks coming out of the White House are a massive over exaggeration put out by the Fake News Media in order to make us look as bad as possible. With that being said, leakers are traitors and cowards, and we will find out who they are! | 2018-05-14 22:46:25 | [] | []\n",
      "3 | realDonaldTrump | leak | “Clapper lied about (fraudulent) Dossier leaks to CNN” @ foxandfriends FoxNews He is a lying machine who now works for Fake News CNN. | 2018-04-28 14:58:18 | [] | ['@ foxandfriends']\n",
      "4 | realDonaldTrump | leak | Is everybody believing what is going on. James Comey can’t define what a leak is. He illegally leaked CLASSIFIED INFORMATION but doesn’t understand what he did or how serious it is. He lied all over the place to cover it up. He’s either very sick or very dumb. Remember sailor! | 2018-04-27 12:26:35 | [] | []\n",
      "5 | realDonaldTrump | leak | So General Michael Flynn’s life can be totally destroyed while Shadey James Comey can Leak and Lie and make lots of money from a third rate book (that should never have been written). Is that really the way life in America is supposed to work? I don’t think so! | 2018-04-20 12:34:16 | [] | []\n",
      "6 | realDonaldTrump | leak | The Fake News is beside themselves that McCabe was caught, called out and fired. How many hundreds of thousands of dollars was given to wife’s campaign by Crooked H friend, Terry M, who was also under investigation? How many lies? How many leaks? Comey knew it all, and much more! | 2018-03-17 18:34:21 | [] | []\n",
      "7 | realDonaldTrump | leak | Little Adam Schiff, who is desperate to run for higher office, is one of the biggest liars and leakers in Washington, right up there with Comey, Warner, Brennan and Clapper! Adam leaves closed committee hearings to illegally leak confidential information. Must be stopped! | 2018-02-05 13:39:10 | [] | []\n",
      "8 | realDonaldTrump | leak | After many years of LEAKS going on in Washington, it is great to see the A.G. taking action! For National Security, the tougher the better! | 2017-08-06 00:58:17 | [] | []\n",
      "9 | realDonaldTrump | leak | While all agree the U. S. President has the complete power to pardon, why think of that when only crime so far is LEAKS against us.FAKE NEWS | 2017-07-22 13:35:34 | [] | []\n",
      "10 | realDonaldTrump | leak | A new INTELLIGENCE LEAK from the Amazon Washington Post,this time against A.G. Jeff Sessions.These illegal leaks, like Comey's, must stop! | 2017-07-22 12:33:01 | [] | []\n",
      "11 | realDonaldTrump | leak | I believe the James Comey leaks will be far more prevalent than anyone ever thought possible. Totally illegal? Very 'cowardly!' | 2017-06-11 14:29:46 | [] | []\n",
      "12 | realDonaldTrump | leak | It is my opinion that many of the leaks coming out of the White House are fabricated lies made up by the # FakeNews media. | 2017-05-28 14:33:03 | ['# FakeNews'] | []\n",
      "13 | realDonaldTrump | leak | ...is all of the illegal leaks of classified and other information. It is a total \"witch hunt!\" | 2017-03-03 03:38:48 | [] | []\n",
      "14 | realDonaldTrump | leak | Russia talk is FAKE NEWS put out by the Dems, and played up by the media, in order to mask the big election defeat and the illegal leaks! | 2017-02-26 19:16:41 | [] | []\n",
      "15 | realDonaldTrump | leak | The real story here is why are there so many illegal leaks coming out of Washington? Will these leaks be happening as I deal on N.Korea etc? | 2017-02-14 15:28:54 | [] | []\n",
      "16 | realDonaldTrump | leak | Intelligence agencies should never have allowed this fake news to \"leak\" into the public. One last shot at me.Are we living in Nazi Germany? | 2017-01-11 13:48:52 | [] | []\n",
      "17 | realDonaldTrump | leak | It’s Tuesday. How many more ‘The View’ Execs will leak that they want @ rosie gone? Show is failing. | 2014-12-02 22:36:51 | [] | ['@ rosie']\n",
      "18 | realDonaldTrump | leak | Another must read from Jeffrey Lord @ amspec: “Rove Email Leaks: Ideological War Opens in GOP” http://bit.ly/YTZQIO | 2013-02-12 21:40:22 | [] | ['@ amspec:']\n",
      "19 | realDonaldTrump | leak | Between Libya, the national security leaks and Fast & Furious, Obama has had more national security scandals than any other President. | 2012-10-16 20:20:35 | [] | []\n",
      "20 | realDonaldTrump | leak | Whatever happened to Obama's 'independent investigation' into national security leaks from his administration? Where's the media? | 2012-09-11 20:20:20 | [] | []\n",
      "21 | realDonaldTrump | leak | Military reps have attacked @ BarackObama over Bin Laden leaks--they believe he's just using this for his benefit. Not a big surprise... | 2012-08-16 17:14:11 | [] | ['@ BarackObama']\n",
      "22 | realDonaldTrump | leak | All the national security leaks coming from @ BarackObama's @ whitehouse were clearly made for political gain. Where's the outrage!? | 2012-07-27 22:30:19 | [] | [\"@ BarackObama's\", '@ whitehouse']\n",
      "23 | realDonaldTrump | leak | Just as I predicted, @ BarackObama has not allowed an independent investigation into the national security leaks from his cabinet. | 2012-07-27 22:24:34 | [] | ['@ BarackObama']\n",
      "24 | realDonaldTrump | leak | It is terrible that @ BarackObama did not appoint an independent counsel to investigate the national security leaks. No accountability. | 2012-06-27 21:24:49 | [] | ['@ BarackObama']\n",
      "25 | realDonaldTrump | leak | CORRUPT--with the national security leaks and Fast & Furious, there are clearly at least two cover ups in @ BarackObama's White House. | 2012-06-20 21:56:02 | [] | [\"@ BarackObama's\"]\n",
      "26 | realDonaldTrump | leak | Yesterday there was yet another massive intelligence leak by the @ BarackObama administration. http://wapo.st/M4FEQY | 2012-06-20 21:52:23 | [] | ['@ BarackObama']\n",
      "27 | realDonaldTrump | leak | The Justice Department's investigation into the national security leaks is not independent. This is a very grave situation. | 2012-06-11 22:06:26 | [] | []\n"
     ]
    },
    {
     "data": {
      "text/plain": [
       "6270"
      ]
     },
     "execution_count": 50,
     "metadata": {},
     "output_type": "execute_result"
    }
   ],
   "source": [
    "txt = get_data('realDonaldTrump', maxi=n, verbose=True, top=True)\n",
    "file.write(txt)"
   ]
  },
  {
   "cell_type": "code",
   "execution_count": null,
   "metadata": {},
   "outputs": [
    {
     "name": "stdout",
     "output_type": "stream",
     "text": [
      "1 | seanhannity | leak | Clearly a leak by the special counsel’s office again with anonymous sources https://www.hannity.com/media-room/mueller-mayhem-special-counsels-questions-for-trump-leaked-to-ny-times/amp/ … | 2018-05-01 16:35:11 | [] | []\n",
      "2 | seanhannity | leak | Mr Comey what did you know about McCabe’s leaks/Conduct? Why was the unverified and salacious dossier (January 2017) used as “the bulk” of the FISC application (October 2016)? Why didn’t the FBI verify and corroborate the Dossier? Did you know the Dossier used “Russian” sources? https://twitter.com/comey/status/975065073575219200 … | 2018-03-17 20:12:45 | [] | []\n",
      "3 | seanhannity | leak | Grassley Demands DOJ COMES CLEAN Over Comey Leaks https://www.hannity.com/media-room/grassley-unchained-the-senator-demands-doj-comes-clean-over-comey-leaks/ … | 2018-01-04 18:27:30 | [] | []\n",
      "4 | seanhannity | leak | AG Sessions announced that leak investigations have tripled under President Trump... @ KellyannePolls explains next # Hannity | 2017-08-05 04:26:00 | ['# Hannity'] | ['@ KellyannePolls']\n",
      "5 | seanhannity | leak | On # Hannity at 10pm I will react to what is happening in the Senate plus an explosive new report on government leaks | 2017-07-28 02:30:00 | ['# Hannity'] | []\n",
      "6 | seanhannity | leak | Next... White House Comms Director @ Scaramucci is here to talk about how he's putting an end to the White House leaks # Hannity | 2017-07-27 04:27:00 | ['# Hannity'] | ['@ Scaramucci']\n",
      "7 | seanhannity | leak | New White House Communications Director @ Scaramucci says the White House is going to hit a \"cultural reset on leaks\"… More at 10pm # Hannity | 2017-07-27 03:51:44 | ['# Hannity'] | ['@ Scaramucci']\n",
      "8 | seanhannity | leak | Deep State selectively Unmasks and leaks Intel-NO PROBLEM! Comey LEAKS Government Documents-NO PROBLEM. Dems/media Lie, slander, NO PROBLEM! | 2017-07-10 02:25:25 | [] | []\n",
      "9 | seanhannity | leak | Investigations needed. 1-\"Comey, leaks/records act. 2-\"Matter\" Lynch Obstruction 3-Hillary, a)Mishandling/destruction classified documents | 2017-06-27 20:58:45 | [] | []\n",
      "10 | seanhannity | leak | # Hannity starts in 30 minutes and I will be joined by John Solomon and @ SaraCarterDC with their latest report on government leaks | 2017-06-07 03:30:00 | ['# Hannity'] | ['@ SaraCarterDC']\n",
      "11 | seanhannity | leak | This is beyond true I would also add that in my interview with @ JulianAssange he said \"Russia was NOT the source of the leak\" 11 yrs correct https://twitter.com/julianassange/status/871398127160393729 … | 2017-06-06 18:32:28 | [] | ['@ JulianAssange']\n",
      "12 | seanhannity | leak | Question of the Day: Do you think the deep state leaks are hurting the country? # Hannity | 2017-05-31 04:58:00 | ['# Hannity'] | []\n",
      "13 | seanhannity | leak | DHS Secretary says the leaks in DC could have crossed the line of treason… @ JaySekulow, @ SaraCarterDC and John Solomon react next # Hannity | 2017-05-31 04:43:00 | ['# Hannity'] | ['@ JaySekulow,', '@ SaraCarterDC']\n",
      "14 | seanhannity | leak | Next Deputy Assistant to the President @ SebGorka has reaction to the leaks coming out of the White House # Hannity | 2017-05-17 04:49:00 | ['# Hannity'] | ['@ SebGorka']\n",
      "15 | seanhannity | leak | Up next @ JaySekulow and @ David_Bossie weigh in on the leaks coming out of Washington # Hannity | 2017-05-17 04:17:01 | ['# Hannity'] | ['@ JaySekulow', '@ David_Bossie']\n",
      "16 | seanhannity | leak | James Comey failed to go after leaks coming from the government... so will the next FBI director do the same? @ SaraCarterDC is here # Hannity | 2017-05-16 04:40:02 | ['# Hannity'] | ['@ SaraCarterDC']\n",
      "17 | seanhannity | leak | \"Several people close to him\" Everyone knows people at every WH and every corp. have agendas and leak. Maybe a new standard. \"On the record\" https://twitter.com/maggienyt/status/855906724640952320 … | 2017-04-23 13:54:48 | [] | []\n",
      "18 | seanhannity | leak | Bombshell development on the issue of Surveillance vs @ POTUS &his transition team. Also huge news on \"Unmasking\" and intel leaks. 10 est FNC https://twitter.com/seanhannity/status/847176537279418368 … | 2017-03-30 01:47:07 | [] | ['@ POTUS']\n",
      "19 | seanhannity | leak | . @ SaraCarterDC reported the FBI has been slowed by prosecutors in probe of Russian intel leaks... She joins me at 10pm to explain # Hannity | 2017-03-21 02:30:00 | ['# Hannity'] | ['@ SaraCarterDC']\n",
      "20 | seanhannity | leak | @ NBCNews on Jihad against @ POTUS From access Hollywood, to morning Lib Joe, to Deep State Leaks. Media Corporate Jihad. Details at 10 FNC | 2017-03-15 01:47:27 | [] | ['@ NBCNews', '@ POTUS']\n",
      "21 | seanhannity | leak | Now these same never Trump idiots cannot recognize the felonies (leaks) being committed by some in the intelligence community & ...... | 2017-03-13 05:24:33 | [] | []\n",
      "22 | seanhannity | leak | The illegal leaks that very likely came from people JC knows well. That's a hell of a source. https://twitter.com/jonfavs/status/838429775987290112 … | 2017-03-05 18:10:20 | [] | []\n",
      "23 | seanhannity | leak | I'm sure you are aware that the Intel community standard practice is also NOT to identify the American after the fact &cant legally leak it https://twitter.com/seanhannity/status/838433280118644736 … | 2017-03-05 18:00:07 | [] | []\n",
      "24 | seanhannity | leak | @ jonfavs What possible reason? To insure leaks like we r seeing? The Gen. Flynn leak violated the law. Where was the \"minimization\"? https://twitter.com/seanhannity/status/838105314549460992 … | 2017-03-05 17:54:15 | [] | ['@ jonfavs']\n",
      "25 | seanhannity | leak | Let's investigate you, Valerie, Obama, and intelligence leaks. Let's start there. Then Lynch, HRC. Great idea Ben. Have u called a lawyer? https://twitter.com/brhodes/status/838211688008728576 … | 2017-03-05 04:16:58 | [] | []\n",
      "26 | seanhannity | leak | The Alt Left Propaganda media will run with every leak to help distract from Obamas & Co's role in spying on @ POTUS @ realDonaldTrumphttps://twitter.com/valeriejarrett/status/838083755168382976 … | 2017-03-04 23:08:13 | [] | ['@ POTUS', '@ realDonaldTrumphttps://twitter.com/valeriejarrett/status/838083755168382976']\n",
      "27 | seanhannity | leak | On radio I have discussed the \"Shadow Government\" \"Deep state swamp of Obama holdovers and DC lifers\" watch for Tons of leaks this week!!!!! https://twitter.com/valeriejarrett/status/838083755168382976 … | 2017-03-04 23:05:56 | [] | []\n",
      "28 | seanhannity | leak | President Trump addressed the illegal leaks that forced Mike Flynn to resign… Congressmen @ DevinNunes & @ SteveKingIA react next # Hannity | 2017-02-16 04:17:01 | ['# Hannity'] | ['@ DevinNunes', '@ SteveKingIA']\n",
      "29 | seanhannity | leak | There needs to be a heavy penalty for hackers who leak private photos from accounts. What happened to these women is horrifying # Hannity | 2014-09-03 04:42:08 | ['# Hannity'] | []\n",
      "30 | seanhannity | leak | Next, “The Great One” @ marklevinshow weighs in on the president’s speech, VA scandal & CIA leak ON # Hannity | 2014-05-29 04:14:12 | ['# Hannity'] | ['@ marklevinshow']\n"
     ]
    },
    {
     "data": {
      "text/plain": [
       "7001"
      ]
     },
     "execution_count": 51,
     "metadata": {},
     "output_type": "execute_result"
    }
   ],
   "source": [
    "txt = get_data('seanhannity', maxi=n, verbose=True)\n",
    "file.write(txt)"
   ]
  },
  {
   "cell_type": "code",
   "execution_count": null,
   "metadata": {},
   "outputs": [
    {
     "name": "stdout",
     "output_type": "stream",
     "text": [
      "1 | foxnews | leak | FBI Director Wray: “We are aggressively investigating a number of leaks, even as we speak.” pic.twitter.com/CbR922EjD6 | 2018-06-18 22:03:54 | [] | []\n",
      "2 | foxnews | leak | Love and leaks: Wolfe-Watkins latest couple to draw scrutiny for loose lips and tips https://fxn.ws/2sIqIlQ | 2018-06-09 19:30:45 | [] | []\n",
      "3 | foxnews | leak | . @ POTUS: “You can not leak classified information. At the same time, we need freedom of the press.” pic.twitter.com/zonzNQelY2 | 2018-06-09 06:46:00 | [] | ['@ POTUS:']\n",
      "4 | foxnews | leak | Democratic senators accuse @ POTUS of possible leak, call for investigation into jobs report tweet. https://fxn.ws/2JnTAdL | 2018-06-09 03:57:58 | [] | ['@ POTUS']\n",
      "5 | foxnews | leak | Ali Watkins' past tweets come back to haunt NYT reporter amid leak case http://www.foxnews.com/politics/2018/06/08/ali-watkins-past-tweets-come-back-to-haunt-nyt-reporter-amid-leak-case.html … | 2018-06-09 02:33:41 | [] | []\n",
      "6 | foxnews | leak | Democratic senators accuse Trump of possible leak, call for investigation into jobs report tweet http://www.foxnews.com/politics/2018/06/08/democratic-senators-accuse-trump-possible-leak-call-for-investigation-into-jobs-report-tweet … | 2018-06-09 00:04:55 | [] | []\n"
     ]
    }
   ],
   "source": [
    "txt = get_data('foxnews', maxi=n, verbose=True)\n",
    "file.write(txt)"
   ]
  },
  {
   "cell_type": "code",
   "execution_count": null,
   "metadata": {},
   "outputs": [],
   "source": [
    "txt = get_data('nytimes', maxi=n, verbose=True)\n",
    "file.write(txt)"
   ]
  },
  {
   "cell_type": "code",
   "execution_count": null,
   "metadata": {},
   "outputs": [],
   "source": [
    "txt = get_data('maggieNYT', maxi=n, verbose=True)\n",
    "file.write(txt)"
   ]
  },
  {
   "cell_type": "code",
   "execution_count": null,
   "metadata": {},
   "outputs": [],
   "source": [
    "txt = get_data('washingtonpost', maxi=n, verbose=True)\n",
    "file.write(txt)"
   ]
  },
  {
   "cell_type": "code",
   "execution_count": null,
   "metadata": {},
   "outputs": [],
   "source": [
    "txt = get_data('cnn', maxi=n, verbose=True)\n",
    "file.write(txt)"
   ]
  },
  {
   "cell_type": "code",
   "execution_count": null,
   "metadata": {},
   "outputs": [],
   "source": [
    "txt = get_data('wsj', maxi=n, verbose=True)\n",
    "file.write(txt)"
   ]
  },
  {
   "cell_type": "code",
   "execution_count": null,
   "metadata": {},
   "outputs": [],
   "source": [
    "file.close()"
   ]
  },
  {
   "cell_type": "code",
   "execution_count": null,
   "metadata": {
    "collapsed": true
   },
   "outputs": [],
   "source": []
  }
 ],
 "metadata": {
  "kernelspec": {
   "display_name": "Python 3",
   "language": "python",
   "name": "python3"
  },
  "language_info": {
   "codemirror_mode": {
    "name": "ipython",
    "version": 3
   },
   "file_extension": ".py",
   "mimetype": "text/x-python",
   "name": "python",
   "nbconvert_exporter": "python",
   "pygments_lexer": "ipython3",
   "version": "3.5.3"
  }
 },
 "nbformat": 4,
 "nbformat_minor": 2
}
