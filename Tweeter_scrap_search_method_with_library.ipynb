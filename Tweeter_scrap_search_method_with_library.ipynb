{
 "cells": [
  {
   "cell_type": "markdown",
   "metadata": {},
   "source": [
    "# Getting tweets by the search method with library"
   ]
  },
  {
   "cell_type": "markdown",
   "metadata": {},
   "source": [
    "You may need to install the package 'pyquery'\n",
    "\n",
    "This is how to install a pip package in the current Jupyter kernel:\n",
    "\n",
    "(uncomment what you need to run)"
   ]
  },
  {
   "cell_type": "code",
   "execution_count": 1,
   "metadata": {
    "collapsed": true
   },
   "outputs": [],
   "source": [
    "#import sys\n",
    "#!{sys.executable} -m pip install --upgrade pip\n",
    "#!{sys.executable} -m pip install pyquery"
   ]
  },
  {
   "cell_type": "code",
   "execution_count": 2,
   "metadata": {
    "collapsed": true
   },
   "outputs": [],
   "source": [
    "import GetOldTweets.got3 as got\n",
    "import sys\n",
    "import re"
   ]
  },
  {
   "cell_type": "code",
   "execution_count": 3,
   "metadata": {
    "collapsed": true
   },
   "outputs": [],
   "source": [
    "#max nb of tweets\n",
    "n=30"
   ]
  },
  {
   "cell_type": "code",
   "execution_count": 4,
   "metadata": {
    "collapsed": true
   },
   "outputs": [],
   "source": [
    "tweetCriteria = got.manager.TweetCriteria().setUsername('realDonaldTrump')\\\n",
    "                .setQuerySearch('leak').setMaxTweets(n)\n",
    "#.setSince(\"2015-09-10\")"
   ]
  },
  {
   "cell_type": "code",
   "execution_count": 38,
   "metadata": {
    "scrolled": false
   },
   "outputs": [
    {
     "name": "stdout",
     "output_type": "stream",
     "text": [
      "id | twitter handle | keyword | text | date | tuple of hashtags found in tweet | tuple of @'s found in tweet\n",
      "\n",
      "0 | realDonaldTrump | leak | So, the Democrats make up a phony crime, Collusion with the Russians, pay a fortune to make the crime sound real, illegally leak (Comey) classified information so that a Special Councel will be appointed, and then Collude to make this pile of garbage take on life in Fake News! | 2018-06-14 17:08:51 | [] | []\n",
      "\n"
     ]
    }
   ],
   "source": [
    "def get_data(user_name, search_word='leak', sep=' | ', maxi=10, verbose=False, top=False, since=None):\n",
    "    if since is None:\n",
    "        tweetCriteria = got.manager.TweetCriteria().setUsername(user_name)\\\n",
    "                .setQuerySearch(search_word).setMaxTweets(maxi)\n",
    "    else:\n",
    "        tweetCriteria = got.manager.TweetCriteria().setUsername(user_name)\\\n",
    "                .setQuerySearch(search_word).setMaxTweets(maxi).setSince(since)\n",
    "    \n",
    "    out=''\n",
    "    if top:\n",
    "        out+= 'id'+sep+'twitter handle'+sep+'keyword'+sep+'text'+sep+'date'+sep+'tuple of hashtags found in tweet'+sep\\\n",
    "        +\"tuple of @'s found in tweet\\n\"\n",
    "        if verbose:\n",
    "            print(out)\n",
    "    \n",
    "    if maxi==0:\n",
    "        finished=False\n",
    "        i=0\n",
    "        while not finished:\n",
    "            try:\n",
    "                tweet = got.manager.TweetManager.getTweets(tweetCriteria)[i]\n",
    "            except:\n",
    "                finished=True\n",
    "            else:\n",
    "                i+=1\n",
    "                txt = tweet.text\n",
    "                hashtags = re.findall(r'# [^\\ ]*', txt)\n",
    "                ats = re.findall(r'@ [^\\ ]*', txt)\n",
    "                if verbose:\n",
    "                    print(str(i)+sep+user_name+sep+search_word+sep+str(txt)+sep+str(tweet.date)+sep+str(hashtags)+sep+str(ats))\n",
    "                out+= str(i)+sep+user_name+sep+search_word+sep+str(txt)+sep+str(tweet.date)+sep+str(hashtags)+sep+str(ats)+'\\n'\n",
    "    \n",
    "    else:\n",
    "        for i in range(maxi):\n",
    "            try:\n",
    "                tweet = got.manager.TweetManager.getTweets(tweetCriteria)[i]\n",
    "            except:\n",
    "                print(i, '-', sys.exc_info()[0])\n",
    "            else:\n",
    "                txt = tweet.text\n",
    "                hashtags = re.findall(r'# [^\\ ]*', txt)\n",
    "                ats = re.findall(r'@ [^\\ ]*', txt)\n",
    "                if verbose:\n",
    "                    print(str(i)+sep+user_name+sep+search_word+sep+str(txt)+sep+str(tweet.date)+sep+str(hashtags)+sep+str(ats))\n",
    "                out+= str(i)+sep+user_name+sep+search_word+sep+str(txt)+sep+str(tweet.date)+sep+str(hashtags)+sep+str(ats)+'\\n'\n",
    "\n",
    "    \n",
    "    return out\n",
    "\n",
    "get_data('realDonaldTrump', maxi=1, verbose=True, top=True)\n",
    "print()"
   ]
  },
  {
   "cell_type": "code",
   "execution_count": 49,
   "metadata": {},
   "outputs": [],
   "source": [
    "n=0\n",
    "file=open('leaks tweets', 'w')"
   ]
  },
  {
   "cell_type": "code",
   "execution_count": 50,
   "metadata": {},
   "outputs": [
    {
     "name": "stdout",
     "output_type": "stream",
     "text": [
      "id | twitter handle | keyword | text | date | tuple of hashtags found in tweet | tuple of @'s found in tweet\n",
      "\n",
      "1 | realDonaldTrump | leak | So, the Democrats make up a phony crime, Collusion with the Russians, pay a fortune to make the crime sound real, illegally leak (Comey) classified information so that a Special Councel will be appointed, and then Collude to make this pile of garbage take on life in Fake News! | 2018-06-14 17:08:51 | [] | []\n",
      "2 | realDonaldTrump | leak | The so-called leaks coming out of the White House are a massive over exaggeration put out by the Fake News Media in order to make us look as bad as possible. With that being said, leakers are traitors and cowards, and we will find out who they are! | 2018-05-14 22:46:25 | [] | []\n",
      "3 | realDonaldTrump | leak | “Clapper lied about (fraudulent) Dossier leaks to CNN” @ foxandfriends FoxNews He is a lying machine who now works for Fake News CNN. | 2018-04-28 14:58:18 | [] | ['@ foxandfriends']\n",
      "4 | realDonaldTrump | leak | Is everybody believing what is going on. James Comey can’t define what a leak is. He illegally leaked CLASSIFIED INFORMATION but doesn’t understand what he did or how serious it is. He lied all over the place to cover it up. He’s either very sick or very dumb. Remember sailor! | 2018-04-27 12:26:35 | [] | []\n",
      "5 | realDonaldTrump | leak | So General Michael Flynn’s life can be totally destroyed while Shadey James Comey can Leak and Lie and make lots of money from a third rate book (that should never have been written). Is that really the way life in America is supposed to work? I don’t think so! | 2018-04-20 12:34:16 | [] | []\n",
      "6 | realDonaldTrump | leak | The Fake News is beside themselves that McCabe was caught, called out and fired. How many hundreds of thousands of dollars was given to wife’s campaign by Crooked H friend, Terry M, who was also under investigation? How many lies? How many leaks? Comey knew it all, and much more! | 2018-03-17 18:34:21 | [] | []\n",
      "7 | realDonaldTrump | leak | Little Adam Schiff, who is desperate to run for higher office, is one of the biggest liars and leakers in Washington, right up there with Comey, Warner, Brennan and Clapper! Adam leaves closed committee hearings to illegally leak confidential information. Must be stopped! | 2018-02-05 13:39:10 | [] | []\n",
      "8 | realDonaldTrump | leak | After many years of LEAKS going on in Washington, it is great to see the A.G. taking action! For National Security, the tougher the better! | 2017-08-06 00:58:17 | [] | []\n",
      "9 | realDonaldTrump | leak | While all agree the U. S. President has the complete power to pardon, why think of that when only crime so far is LEAKS against us.FAKE NEWS | 2017-07-22 13:35:34 | [] | []\n",
      "10 | realDonaldTrump | leak | A new INTELLIGENCE LEAK from the Amazon Washington Post,this time against A.G. Jeff Sessions.These illegal leaks, like Comey's, must stop! | 2017-07-22 12:33:01 | [] | []\n",
      "11 | realDonaldTrump | leak | I believe the James Comey leaks will be far more prevalent than anyone ever thought possible. Totally illegal? Very 'cowardly!' | 2017-06-11 14:29:46 | [] | []\n",
      "12 | realDonaldTrump | leak | It is my opinion that many of the leaks coming out of the White House are fabricated lies made up by the # FakeNews media. | 2017-05-28 14:33:03 | ['# FakeNews'] | []\n",
      "13 | realDonaldTrump | leak | ...is all of the illegal leaks of classified and other information. It is a total \"witch hunt!\" | 2017-03-03 03:38:48 | [] | []\n",
      "14 | realDonaldTrump | leak | Russia talk is FAKE NEWS put out by the Dems, and played up by the media, in order to mask the big election defeat and the illegal leaks! | 2017-02-26 19:16:41 | [] | []\n",
      "15 | realDonaldTrump | leak | The real story here is why are there so many illegal leaks coming out of Washington? Will these leaks be happening as I deal on N.Korea etc? | 2017-02-14 15:28:54 | [] | []\n",
      "16 | realDonaldTrump | leak | Intelligence agencies should never have allowed this fake news to \"leak\" into the public. One last shot at me.Are we living in Nazi Germany? | 2017-01-11 13:48:52 | [] | []\n",
      "17 | realDonaldTrump | leak | It’s Tuesday. How many more ‘The View’ Execs will leak that they want @ rosie gone? Show is failing. | 2014-12-02 22:36:51 | [] | ['@ rosie']\n",
      "18 | realDonaldTrump | leak | Another must read from Jeffrey Lord @ amspec: “Rove Email Leaks: Ideological War Opens in GOP” http://bit.ly/YTZQIO | 2013-02-12 21:40:22 | [] | ['@ amspec:']\n",
      "19 | realDonaldTrump | leak | Between Libya, the national security leaks and Fast & Furious, Obama has had more national security scandals than any other President. | 2012-10-16 20:20:35 | [] | []\n",
      "20 | realDonaldTrump | leak | Whatever happened to Obama's 'independent investigation' into national security leaks from his administration? Where's the media? | 2012-09-11 20:20:20 | [] | []\n",
      "21 | realDonaldTrump | leak | Military reps have attacked @ BarackObama over Bin Laden leaks--they believe he's just using this for his benefit. Not a big surprise... | 2012-08-16 17:14:11 | [] | ['@ BarackObama']\n",
      "22 | realDonaldTrump | leak | All the national security leaks coming from @ BarackObama's @ whitehouse were clearly made for political gain. Where's the outrage!? | 2012-07-27 22:30:19 | [] | [\"@ BarackObama's\", '@ whitehouse']\n",
      "23 | realDonaldTrump | leak | Just as I predicted, @ BarackObama has not allowed an independent investigation into the national security leaks from his cabinet. | 2012-07-27 22:24:34 | [] | ['@ BarackObama']\n",
      "24 | realDonaldTrump | leak | It is terrible that @ BarackObama did not appoint an independent counsel to investigate the national security leaks. No accountability. | 2012-06-27 21:24:49 | [] | ['@ BarackObama']\n",
      "25 | realDonaldTrump | leak | CORRUPT--with the national security leaks and Fast & Furious, there are clearly at least two cover ups in @ BarackObama's White House. | 2012-06-20 21:56:02 | [] | [\"@ BarackObama's\"]\n",
      "26 | realDonaldTrump | leak | Yesterday there was yet another massive intelligence leak by the @ BarackObama administration. http://wapo.st/M4FEQY | 2012-06-20 21:52:23 | [] | ['@ BarackObama']\n",
      "27 | realDonaldTrump | leak | The Justice Department's investigation into the national security leaks is not independent. This is a very grave situation. | 2012-06-11 22:06:26 | [] | []\n"
     ]
    },
    {
     "data": {
      "text/plain": [
       "6270"
      ]
     },
     "execution_count": 50,
     "metadata": {},
     "output_type": "execute_result"
    }
   ],
   "source": [
    "txt = get_data('realDonaldTrump', maxi=n, verbose=True, top=True)\n",
    "file.write(txt)"
   ]
  },
  {
   "cell_type": "code",
   "execution_count": null,
   "metadata": {},
   "outputs": [
    {
     "name": "stdout",
     "output_type": "stream",
     "text": [
      "1 | seanhannity | leak | Clearly a leak by the special counsel’s office again with anonymous sources https://www.hannity.com/media-room/mueller-mayhem-special-counsels-questions-for-trump-leaked-to-ny-times/amp/ … | 2018-05-01 16:35:11 | [] | []\n",
      "2 | seanhannity | leak | Mr Comey what did you know about McCabe’s leaks/Conduct? Why was the unverified and salacious dossier (January 2017) used as “the bulk” of the FISC application (October 2016)? Why didn’t the FBI verify and corroborate the Dossier? Did you know the Dossier used “Russian” sources? https://twitter.com/comey/status/975065073575219200 … | 2018-03-17 20:12:45 | [] | []\n",
      "3 | seanhannity | leak | Grassley Demands DOJ COMES CLEAN Over Comey Leaks https://www.hannity.com/media-room/grassley-unchained-the-senator-demands-doj-comes-clean-over-comey-leaks/ … | 2018-01-04 18:27:30 | [] | []\n",
      "4 | seanhannity | leak | AG Sessions announced that leak investigations have tripled under President Trump... @ KellyannePolls explains next # Hannity | 2017-08-05 04:26:00 | ['# Hannity'] | ['@ KellyannePolls']\n",
      "5 | seanhannity | leak | On # Hannity at 10pm I will react to what is happening in the Senate plus an explosive new report on government leaks | 2017-07-28 02:30:00 | ['# Hannity'] | []\n",
      "6 | seanhannity | leak | Next... White House Comms Director @ Scaramucci is here to talk about how he's putting an end to the White House leaks # Hannity | 2017-07-27 04:27:00 | ['# Hannity'] | ['@ Scaramucci']\n",
      "7 | seanhannity | leak | New White House Communications Director @ Scaramucci says the White House is going to hit a \"cultural reset on leaks\"… More at 10pm # Hannity | 2017-07-27 03:51:44 | ['# Hannity'] | ['@ Scaramucci']\n",
      "8 | seanhannity | leak | Deep State selectively Unmasks and leaks Intel-NO PROBLEM! Comey LEAKS Government Documents-NO PROBLEM. Dems/media Lie, slander, NO PROBLEM! | 2017-07-10 02:25:25 | [] | []\n",
      "9 | seanhannity | leak | Investigations needed. 1-\"Comey, leaks/records act. 2-\"Matter\" Lynch Obstruction 3-Hillary, a)Mishandling/destruction classified documents | 2017-06-27 20:58:45 | [] | []\n",
      "10 | seanhannity | leak | # Hannity starts in 30 minutes and I will be joined by John Solomon and @ SaraCarterDC with their latest report on government leaks | 2017-06-07 03:30:00 | ['# Hannity'] | ['@ SaraCarterDC']\n",
      "11 | seanhannity | leak | This is beyond true I would also add that in my interview with @ JulianAssange he said \"Russia was NOT the source of the leak\" 11 yrs correct https://twitter.com/julianassange/status/871398127160393729 … | 2017-06-06 18:32:28 | [] | ['@ JulianAssange']\n",
      "12 | seanhannity | leak | Question of the Day: Do you think the deep state leaks are hurting the country? # Hannity | 2017-05-31 04:58:00 | ['# Hannity'] | []\n",
      "13 | seanhannity | leak | DHS Secretary says the leaks in DC could have crossed the line of treason… @ JaySekulow, @ SaraCarterDC and John Solomon react next # Hannity | 2017-05-31 04:43:00 | ['# Hannity'] | ['@ JaySekulow,', '@ SaraCarterDC']\n",
      "14 | seanhannity | leak | Next Deputy Assistant to the President @ SebGorka has reaction to the leaks coming out of the White House # Hannity | 2017-05-17 04:49:00 | ['# Hannity'] | ['@ SebGorka']\n",
      "15 | seanhannity | leak | Up next @ JaySekulow and @ David_Bossie weigh in on the leaks coming out of Washington # Hannity | 2017-05-17 04:17:01 | ['# Hannity'] | ['@ JaySekulow', '@ David_Bossie']\n",
      "16 | seanhannity | leak | James Comey failed to go after leaks coming from the government... so will the next FBI director do the same? @ SaraCarterDC is here # Hannity | 2017-05-16 04:40:02 | ['# Hannity'] | ['@ SaraCarterDC']\n",
      "17 | seanhannity | leak | \"Several people close to him\" Everyone knows people at every WH and every corp. have agendas and leak. Maybe a new standard. \"On the record\" https://twitter.com/maggienyt/status/855906724640952320 … | 2017-04-23 13:54:48 | [] | []\n",
      "18 | seanhannity | leak | Bombshell development on the issue of Surveillance vs @ POTUS &his transition team. Also huge news on \"Unmasking\" and intel leaks. 10 est FNC https://twitter.com/seanhannity/status/847176537279418368 … | 2017-03-30 01:47:07 | [] | ['@ POTUS']\n",
      "19 | seanhannity | leak | . @ SaraCarterDC reported the FBI has been slowed by prosecutors in probe of Russian intel leaks... She joins me at 10pm to explain # Hannity | 2017-03-21 02:30:00 | ['# Hannity'] | ['@ SaraCarterDC']\n",
      "20 | seanhannity | leak | @ NBCNews on Jihad against @ POTUS From access Hollywood, to morning Lib Joe, to Deep State Leaks. Media Corporate Jihad. Details at 10 FNC | 2017-03-15 01:47:27 | [] | ['@ NBCNews', '@ POTUS']\n",
      "21 | seanhannity | leak | Now these same never Trump idiots cannot recognize the felonies (leaks) being committed by some in the intelligence community & ...... | 2017-03-13 05:24:33 | [] | []\n",
      "22 | seanhannity | leak | The illegal leaks that very likely came from people JC knows well. That's a hell of a source. https://twitter.com/jonfavs/status/838429775987290112 … | 2017-03-05 18:10:20 | [] | []\n",
      "23 | seanhannity | leak | I'm sure you are aware that the Intel community standard practice is also NOT to identify the American after the fact &cant legally leak it https://twitter.com/seanhannity/status/838433280118644736 … | 2017-03-05 18:00:07 | [] | []\n",
      "24 | seanhannity | leak | @ jonfavs What possible reason? To insure leaks like we r seeing? The Gen. Flynn leak violated the law. Where was the \"minimization\"? https://twitter.com/seanhannity/status/838105314549460992 … | 2017-03-05 17:54:15 | [] | ['@ jonfavs']\n",
      "25 | seanhannity | leak | Let's investigate you, Valerie, Obama, and intelligence leaks. Let's start there. Then Lynch, HRC. Great idea Ben. Have u called a lawyer? https://twitter.com/brhodes/status/838211688008728576 … | 2017-03-05 04:16:58 | [] | []\n",
      "26 | seanhannity | leak | The Alt Left Propaganda media will run with every leak to help distract from Obamas & Co's role in spying on @ POTUS @ realDonaldTrumphttps://twitter.com/valeriejarrett/status/838083755168382976 … | 2017-03-04 23:08:13 | [] | ['@ POTUS', '@ realDonaldTrumphttps://twitter.com/valeriejarrett/status/838083755168382976']\n",
      "27 | seanhannity | leak | On radio I have discussed the \"Shadow Government\" \"Deep state swamp of Obama holdovers and DC lifers\" watch for Tons of leaks this week!!!!! https://twitter.com/valeriejarrett/status/838083755168382976 … | 2017-03-04 23:05:56 | [] | []\n",
      "28 | seanhannity | leak | President Trump addressed the illegal leaks that forced Mike Flynn to resign… Congressmen @ DevinNunes & @ SteveKingIA react next # Hannity | 2017-02-16 04:17:01 | ['# Hannity'] | ['@ DevinNunes', '@ SteveKingIA']\n",
      "29 | seanhannity | leak | There needs to be a heavy penalty for hackers who leak private photos from accounts. What happened to these women is horrifying # Hannity | 2014-09-03 04:42:08 | ['# Hannity'] | []\n",
      "30 | seanhannity | leak | Next, “The Great One” @ marklevinshow weighs in on the president’s speech, VA scandal & CIA leak ON # Hannity | 2014-05-29 04:14:12 | ['# Hannity'] | ['@ marklevinshow']\n"
     ]
    },
    {
     "data": {
      "text/plain": [
       "7001"
      ]
     },
     "execution_count": 51,
     "metadata": {},
     "output_type": "execute_result"
    }
   ],
   "source": [
    "txt = get_data('seanhannity', maxi=n, verbose=True)\n",
    "file.write(txt)"
   ]
  },
  {
   "cell_type": "code",
   "execution_count": null,
   "metadata": {},
   "outputs": [
    {
     "name": "stdout",
     "output_type": "stream",
     "text": [
      "1 | foxnews | leak | FBI Director Wray: “We are aggressively investigating a number of leaks, even as we speak.” pic.twitter.com/CbR922EjD6 | 2018-06-18 22:03:54 | [] | []\n",
      "2 | foxnews | leak | Love and leaks: Wolfe-Watkins latest couple to draw scrutiny for loose lips and tips https://fxn.ws/2sIqIlQ | 2018-06-09 19:30:45 | [] | []\n",
      "3 | foxnews | leak | . @ POTUS: “You can not leak classified information. At the same time, we need freedom of the press.” pic.twitter.com/zonzNQelY2 | 2018-06-09 06:46:00 | [] | ['@ POTUS:']\n",
      "4 | foxnews | leak | Democratic senators accuse @ POTUS of possible leak, call for investigation into jobs report tweet. https://fxn.ws/2JnTAdL | 2018-06-09 03:57:58 | [] | ['@ POTUS']\n",
      "5 | foxnews | leak | Ali Watkins' past tweets come back to haunt NYT reporter amid leak case http://www.foxnews.com/politics/2018/06/08/ali-watkins-past-tweets-come-back-to-haunt-nyt-reporter-amid-leak-case.html … | 2018-06-09 02:33:41 | [] | []\n",
      "6 | foxnews | leak | Democratic senators accuse Trump of possible leak, call for investigation into jobs report tweet http://www.foxnews.com/politics/2018/06/08/democratic-senators-accuse-trump-possible-leak-call-for-investigation-into-jobs-report-tweet … | 2018-06-09 00:04:55 | [] | []\n",
      "7 | foxnews | leak | . @ POTUS: “You can not leak classified information. At the same time, we need freedom of the press.” pic.twitter.com/DF8GvABvLi | 2018-06-08 15:15:33 | [] | ['@ POTUS:']\n",
      "8 | foxnews | leak | BREAKING NEWS: Senate Intel ex-security director indicted on false-statements charges in probe of possible leaks. https://fxn.ws/2JlH6TV | 2018-06-08 04:41:32 | [] | []\n",
      "9 | foxnews | leak | Justice Department looking into possible leaks from former Senate aide. https://fxn.ws/2LxzpGS | 2018-06-08 04:21:21 | [] | []\n",
      "10 | foxnews | leak | Gowdy Cautions Dems on Bipartisan Russia Meeting: Have an Open Mind and Don't 'Leak Like a Sieve' http://bit.ly/2s2hmkv | 2018-05-23 23:51:45 | [] | []\n",
      "11 | foxnews | leak | UPDATE: Nearly 20 Chicago elementary school students hospitalized after gas leak. https://fxn.ws/2s05cca | 2018-05-23 00:58:12 | [] | []\n",
      "12 | foxnews | leak | Nearly 20 Chicago elementary school students hospitalized after gas leak, report says http://www.foxnews.com/us/2018/05/22/nearly-20-chicago-elementary-school-students-hospitalized-after-gas-leak-report-says.html … | 2018-05-22 22:34:56 | [] | []\n",
      "13 | foxnews | leak | . @ DevinNunes: \"We're not going to go to another meeting where we don't get documents and then the meeting leaks out. This should make people very suspicious - they were trying to get Mr. Gowdy & I to go on Friday to @ TheJusticeDept for supposedly another briefing.\" # SundayFuturespic.twitter.com/RjJ6XgHeDy | 2018-05-20 16:24:38 | ['# SundayFuturespic.twitter.com/RjJ6XgHeDy'] | ['@ DevinNunes:', '@ TheJusticeDept']\n",
      "14 | foxnews | leak | . @ seanspicer on @ WhiteHouse leaks: \"Anybody who goes there and leaks really undermines both the honor that the president has bestowed upon them and the agenda that the president's pursuing on behalf of the American people.\" # TheStory https://bit.ly/2ImM1iM pic.twitter.com/9dGNXGLHDK | 2018-05-16 01:55:48 | ['# TheStory'] | ['@ seanspicer', '@ WhiteHouse']\n",
      "15 | foxnews | leak | Marie Harf on WH hints at staff changes over leaks: “It seems like there are people inside the White House who just don’t like each other.” pic.twitter.com/bdtpqTwIIR | 2018-05-15 15:56:24 | [] | []\n",
      "16 | foxnews | leak | Hugo Gurdon: “What’s extraordinary about the leaks this time though is not so much how many there are…it’s the nature of those leaks.” https://bit.ly/2ImM1iM pic.twitter.com/ByKVFUSFi3 | 2018-05-15 15:31:06 | [] | []\n",
      "17 | foxnews | leak | Kellyanne Conway: Expect WH 'Personnel Changes' After Anti-McCain Leak. http://bit.ly/2Io7vvA | 2018-05-15 05:07:00 | [] | []\n",
      "18 | foxnews | leak | . @ KellyannePolls: \"There are all kinds of leaks...but none of them are helpful.\" # TheStory https://fxn.ws/2ICVXYL pic.twitter.com/dNe49zFDSo | 2018-05-15 01:31:14 | ['# TheStory'] | ['@ KellyannePolls:']\n",
      "19 | foxnews | leak | Nebraska woman's runny nose from 'allergies' turns out to be brain fluid leak https://fxn.ws/2HVO9Sq | 2018-05-08 08:35:00 | [] | []\n",
      "20 | foxnews | leak | . @ TomFitton: New Memo Leak Details Are 'Further Evidence of @ FBI Corruption' Under @ Comey # OutnumberedOThttp://insider.foxnews.com/2018/05/03/tom-fitton-new-details-james-comey-memo-leak-further-evidence-fbi-corruption … | 2018-05-03 22:11:16 | ['# OutnumberedOThttp://insider.foxnews.com/2018/05/03/tom-fitton-new-details-james-comey-memo-leak-further-evidence-fbi-corruption'] | ['@ TomFitton:', '@ FBI', '@ Comey']\n",
      "21 | foxnews | leak | Comey’s memo leak contact worked at FBI for over a year, defended him in media on Clinton probe https://fxn.ws/2rjKSkL | 2018-05-03 21:22:12 | [] | []\n",
      "22 | foxnews | leak | . @ RepPeteKing on alleged dossier leak: \"This is a whole dark period in American intelligence.\" # TheStory https://fxn.ws/2FtTWsn pic.twitter.com/T6gd0mW7oA | 2018-05-01 01:25:44 | ['# TheStory'] | ['@ RepPeteKing']\n",
      "23 | foxnews | leak | Clapper hit for dossier leak dodge in House GOP Russia report @ brookefoxnewshttp://www.foxnews.com/politics/2018/04/30/clapper-hit-for-dossier-leak-dodge-in-house-gop-russia-report.html … | 2018-04-30 19:22:57 | [] | ['@ brookefoxnewshttp://www.foxnews.com/politics/2018/04/30/clapper-hit-for-dossier-leak-dodge-in-house-gop-russia-report.html']\n",
      "24 | foxnews | leak | Clapper hit for dossier leak dodge in House GOP Russia report - via @ brookefoxnews http://www.foxnews.com/politics/2018/04/30/clapper-hit-for-dossier-leak-dodge-in-house-gop-russia-report.html … | 2018-04-30 18:11:45 | [] | ['@ brookefoxnews']\n",
      "25 | foxnews | leak | . @ ChristopherHahn: \"I think we have far too much classified information in this country...what @ Comey put out there didn't seem to violate any national security. It might have embarrassed @ POTUS politically, but it was hardly a leak.\" @ JudgeJeaninepic.twitter.com/GEJ4DGyZPC | 2018-04-29 03:38:08 | [] | ['@ ChristopherHahn:', '@ Comey', '@ POTUS', '@ JudgeJeaninepic.twitter.com/GEJ4DGyZPC']\n",
      "26 | foxnews | leak | Gowdy: James Comey Has a Different Definition of 'Leak' Than Anybody Else http://insider.foxnews.com/2018/04/27/trey-gowdy-james-comey-has-different-definition-leak-anybody-else … | 2018-04-27 17:14:49 | [] | []\n",
      "27 | foxnews | leak | Trump slams Comey's 'leak' denial: 'Very sick or very dumb' - via @ JuddBergerhttp://www.foxnews.com/politics/2018/04/27/trump-slams-comeys-leak-denial-very-sick-or-very-dumb.html … | 2018-04-27 13:38:57 | [] | ['@ JuddBergerhttp://www.foxnews.com/politics/2018/04/27/trump-slams-comeys-leak-denial-very-sick-or-very-dumb.html']\n",
      "28 | foxnews | leak | . @ POTUS slams Comey's 'leak' denial: 'Very sick or very dumb' https://fxn.ws/2HuHcra | 2018-04-27 13:32:59 | [] | ['@ POTUS']\n",
      "29 | foxnews | leak | . @ Comey: \"I don't consider what I did with Mr. Richman a leak. I told him about an unclassified conversation with @ POTUS.\" # SpecialReport https://fxn.ws/2vLVhuQ pic.twitter.com/OykrEfhIs3 | 2018-04-27 11:00:01 | ['# SpecialReport'] | ['@ Comey:', '@ POTUS.\"']\n",
      "30 | foxnews | leak | . @ TGowdySC on @ Comey interview: \"Jim Comey has a definition of the word 'leak' that no one else has. What he says is a leak is what the rest of us call a felony.\" # Tucker https://fxn.ws/2vLVhuQ pic.twitter.com/Vm4zrLAQDG | 2018-04-27 09:30:00 | ['# Tucker'] | ['@ TGowdySC', '@ Comey']\n",
      "31 | foxnews | leak | . @ TGowdySC on @ Comey # SpecialReport interview: \"Jim Comey has a definition of the word 'leak' that no one else has. What he says is a leak is what the rest of us call a felony.\" # Tucker https://fxn.ws/2vLVhuQ pic.twitter.com/vgnnMXBlhc | 2018-04-27 02:12:22 | ['# SpecialReport', '# Tucker'] | ['@ TGowdySC', '@ Comey']\n",
      "32 | foxnews | leak | James Comey claims release of memo contents not a 'leak' in Fox News interview http://www.foxnews.com/politics/2018/04/26/comey-plays-defense-on-fbi-memo-release-denies-being-leaker.html … | 2018-04-27 01:02:05 | [] | []\n",
      "33 | foxnews | leak | . @ Comey: \"I don't consider what I did with Mr. Richman a leak. I told him about an unclassified conversation with @ POTUS.\" # SpecialReportpic.twitter.com/iDA5K7JsMU | 2018-04-27 00:57:00 | ['# SpecialReportpic.twitter.com/iDA5K7JsMU'] | ['@ Comey:', '@ POTUS.\"']\n"
     ]
    },
    {
     "name": "stdout",
     "output_type": "stream",
     "text": [
      "34 | foxnews | leak | . @ Comey: \"I don't consider what I did with Mr. Richman a leak. I told him about an unclassified conversation with @ POTUS.\" # SpecialReportpic.twitter.com/vEGG2awnUj | 2018-04-27 00:33:50 | ['# SpecialReportpic.twitter.com/vEGG2awnUj'] | ['@ Comey:', '@ POTUS.\"']\n",
      "35 | foxnews | leak | . @ Jim_Jordan on James Comey: A leak’s a leak. A leak is when you take information and give it to the press. @ foxandfriendspic.twitter.com/513w0TsD8F | 2018-04-26 13:22:48 | [] | ['@ Jim_Jordan', '@ foxandfriendspic.twitter.com/513w0TsD8F']\n",
<<<<<<< Updated upstream
      "36 | foxnews | leak | . @ Comey's memo leak contact had 'special government employee' status at FBI https://fxn.ws/2Hqfxb1 | 2018-04-25 11:16:25 | [] | [\"@ Comey's\"]\n",
      "37 | foxnews | leak | Comey's memo leak contact had 'special government employee' status at FBI https://fxn.ws/2Hqfxb1 | 2018-04-25 07:35:00 | [] | []\n",
      "38 | foxnews | leak | . @ gabriellahope_: \"This whole book tour has really backfired for Mr. @ Comey. He's now facing questions and an internal probe at the DOJ over whether or not he did indeed leak classified information.\" # FoxReport https://bit.ly/2K2AhTL pic.twitter.com/jl37Ou74RW | 2018-04-23 06:35:00 | ['# FoxReport'] | ['@ gabriellahope_:', '@ Comey.']\n",
      "39 | foxnews | leak | . @ gabriellahope_: \"This whole book tour has really backfired for Mr. @ Comey. He's now facing questions and an internal probe at the DOJ over whether or not he did indeed leak classified information.\" # FoxReport https://bit.ly/2K2AhTL pic.twitter.com/sufHro6uiA | 2018-04-23 00:47:42 | ['# FoxReport'] | ['@ gabriellahope_:', '@ Comey.']\n",
      "40 | foxnews | leak | . @ TGowdySC: \"Jim Comey said, 'I don't do sneaky things,' except memorialize private conversations. 'I don't leak,' except when I do leak. And 'I don't do weasel things' - I think this whole book tour is a pretty weasely thing, quite frankly.\" pic.twitter.com/EfaBX4IC6f | 2018-04-21 09:25:00 | [] | ['@ TGowdySC:']\n",
      "41 | foxnews | leak | . @ MZHemingway on @ Comey memos: \"The later memos are written almost as if they were designed for the purpose of a leak.\" # TheStory https://fxn.ws/2F4256u pic.twitter.com/QH65OlvawB | 2018-04-21 01:53:37 | ['# TheStory'] | ['@ MZHemingway', '@ Comey']\n",
      "42 | foxnews | leak | . @ TGowdySC: \"Jim Comey said, 'I don't do sneaky things,' except memorialize private conversations. 'I don't leak,' except when I do leak. And 'I don't do weasel things' - I think this whole book tour is a pretty weasely thing, quite frankly.\" # SpecialReportpic.twitter.com/g65OZpBEvM | 2018-04-21 00:36:00 | ['# SpecialReportpic.twitter.com/g65OZpBEvM'] | ['@ TGowdySC:']\n",
      "43 | foxnews | leak | . @ TGowdySC: \"Jim Comey said, 'I don't do sneaky things,' except memorialize private conversations. 'I don't leak,' except when I do leak. And 'I don't do weasel things' - I think this whole book tour is a pretty weasely thing, quite frankly.\" # SpecialReportpic.twitter.com/1ML6hlDtk0 | 2018-04-21 00:10:48 | ['# SpecialReportpic.twitter.com/1ML6hlDtk0'] | ['@ TGowdySC:']\n",
      "44 | foxnews | leak | BREAKING NEWS: @ WSJ: At least 2 memos @ Comey gave to friend to leak contained classifed information according to @ TheJusticeDept watchdog.pic.twitter.com/prTX23cnde | 2018-04-20 19:38:26 | [] | ['@ WSJ:', '@ Comey', '@ TheJusticeDept']\n",
      "45 | foxnews | leak | Trump: Flynn's life 'destroyed' while Comey allowed to 'Leak and Lie'- via @ brookefoxnewshttp://www.foxnews.com/politics/2018/04/20/trump-flynns-life-destroyed-while-comey-allowed-to-leak-and-lie.html … | 2018-04-20 14:01:47 | [] | ['@ brookefoxnewshttp://www.foxnews.com/politics/2018/04/20/trump-flynns-life-destroyed-while-comey-allowed-to-leak-and-lie.html']\n",
      "46 | foxnews | leak | OPINION: James @ Comey's ABC interview sidesteps his shocking decision to break every rule and leak to the press https://fxn.ws/2qyA3Li | 2018-04-16 07:29:00 | [] | [\"@ Comey's\"]\n",
      "47 | foxnews | leak | . @ AlanDersh on James Comey: \"This is a man who is revenge-driven. Who is prepared to leak through a law professor at @ Columbia. Who is prepared to disclose confidential conversations he had with the president-elect and @ POTUS.\" # Tuckerpic.twitter.com/q0oNyQwapO | 2018-04-14 02:12:47 | ['# Tuckerpic.twitter.com/q0oNyQwapO'] | ['@ AlanDersh', '@ Columbia.', '@ POTUS.\"']\n",
      "48 | foxnews | leak | . @ AxiosNick on Russia probe: \"These leaks aren't coming from Mueller. Nothing comes out of Mueller's team. These are coming from lawyers and attorneys who are questioned by Mueller and then go to reporters and say what they were asked about.\" @ ShepNewsTeampic.twitter.com/bwLIcsDrTD | 2018-03-30 21:37:54 | [] | ['@ AxiosNick', '@ ShepNewsTeampic.twitter.com/bwLIcsDrTD']\n",
      "49 | foxnews | leak | Dodgers-Angels spring training finale halted by foul-smelling sewage leak https://fxn.ws/2pL8UoR | 2018-03-28 12:05:29 | [] | []\n",
      "50 | foxnews | leak | Iowa family found dead in Mexico likely killed by water heater gas leak, official says https://fxn.ws/2pIV6KL | 2018-03-27 12:01:55 | [] | []\n",
      "51 | foxnews | leak | JUST IN: Iowa family found dead in Mexico likely killed by water heater gas leak, official says https://fxn.ws/2pIV6KL | 2018-03-26 18:40:09 | [] | []\n",
      "52 | foxnews | leak | . @ AmbJohnBolton, Chosen as New Nat'l Security Adviser, Says Leaks Are 'Completely Unacceptable' http://bit.ly/2IIBH5c | 2018-03-23 08:30:00 | [] | ['@ AmbJohnBolton,']\n"
=======
      "36 | foxnews | leak | . @ Comey's memo leak contact had 'special government employee' status at FBI https://fxn.ws/2Hqfxb1 | 2018-04-25 11:16:25 | [] | [\"@ Comey's\"]\n"
>>>>>>> Stashed changes
     ]
    }
   ],
   "source": [
    "txt = get_data('foxnews', maxi=n, verbose=True)\n",
    "file.write(txt)"
   ]
  },
  {
   "cell_type": "code",
   "execution_count": null,
   "metadata": {},
   "outputs": [],
   "source": [
    "txt = get_data('nytimes', maxi=n, verbose=True)\n",
    "file.write(txt)"
   ]
  },
  {
   "cell_type": "code",
   "execution_count": null,
   "metadata": {},
   "outputs": [],
   "source": [
    "txt = get_data('maggieNYT', maxi=n, verbose=True)\n",
    "file.write(txt)"
   ]
  },
  {
   "cell_type": "code",
   "execution_count": null,
   "metadata": {},
   "outputs": [],
   "source": [
    "txt = get_data('washingtonpost', maxi=n, verbose=True)\n",
    "file.write(txt)"
   ]
  },
  {
   "cell_type": "code",
   "execution_count": null,
   "metadata": {},
   "outputs": [],
   "source": [
    "txt = get_data('cnn', maxi=n, verbose=True)\n",
    "file.write(txt)"
   ]
  },
  {
   "cell_type": "code",
   "execution_count": null,
   "metadata": {},
   "outputs": [],
   "source": [
    "txt = get_data('wsj', maxi=n, verbose=True)\n",
    "file.write(txt)"
   ]
  },
  {
   "cell_type": "code",
   "execution_count": null,
   "metadata": {},
   "outputs": [],
   "source": [
    "file.close()"
   ]
  },
  {
   "cell_type": "code",
   "execution_count": null,
   "metadata": {
    "collapsed": true
   },
   "outputs": [],
   "source": []
  }
 ],
 "metadata": {
  "kernelspec": {
   "display_name": "Python 3",
   "language": "python",
   "name": "python3"
  },
  "language_info": {
   "codemirror_mode": {
    "name": "ipython",
    "version": 3
   },
   "file_extension": ".py",
   "mimetype": "text/x-python",
   "name": "python",
   "nbconvert_exporter": "python",
   "pygments_lexer": "ipython3",
   "version": "3.5.3"
  }
 },
 "nbformat": 4,
 "nbformat_minor": 2
}
