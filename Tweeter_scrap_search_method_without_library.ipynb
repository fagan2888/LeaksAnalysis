{
 "cells": [
  {
   "cell_type": "markdown",
   "metadata": {},
   "source": [
    "# Getting tweets by the search method without library"
   ]
  },
  {
   "cell_type": "code",
   "execution_count": 1,
   "metadata": {
    "collapsed": true
   },
   "outputs": [],
   "source": [
    "from bs4 import BeautifulSoup\n",
    "import re"
   ]
  },
  {
   "cell_type": "markdown",
   "metadata": {},
   "source": [
    "## get tweets list"
   ]
  },
  {
   "cell_type": "code",
   "execution_count": 2,
   "metadata": {
    "collapsed": true
   },
   "outputs": [],
   "source": [
    "def get_tweets(file):\n",
    "    f=open(file, 'r', encoding='UTF-8')\n",
    "    html=f.read()\n",
    "    f.close()\n",
    "    soup=BeautifulSoup(html, 'html.parser')\n",
    "    tweets=soup.findAll('li', id=re.compile(\"stream-item-tweet\"))\n",
    "    return tweets\n",
    "\n",
    "tweets = get_tweets('tweets_research/trump.html')"
   ]
  },
  {
   "cell_type": "markdown",
   "metadata": {},
   "source": [
    "## extract data from one tweet"
   ]
  },
  {
   "cell_type": "code",
   "execution_count": 3,
   "metadata": {
    "collapsed": true
   },
   "outputs": [],
   "source": [
    "#try one tweet\n",
    "tw=tweets[2]"
   ]
  },
  {
   "cell_type": "markdown",
   "metadata": {},
   "source": [
    "### Content - CSS selector:\n",
    "#stream-item-tweet-1007278701996802048 > div > div.content > div.js-tweet-text-container > p\n",
    "\n",
    "regex:\n",
    "https://regex101.com/r/0d3E6q/1"
   ]
  },
  {
   "cell_type": "code",
   "execution_count": 4,
   "metadata": {},
   "outputs": [
    {
     "name": "stdout",
     "output_type": "stream",
     "text": [
      "content: “Clapper lied about (fraudulent) Dossier leaks to CNN” @foxandfriends FoxNews  He is a lying machine who now works for Fake News CNN.\n",
      "# []\n",
      "@ ['@foxandfriends']\n"
     ]
    }
   ],
   "source": [
    "#content\n",
    "def content(tw):\n",
    "    text=tw.select('> div > div.content > div.js-tweet-text-container > p')[0].text\n",
    "    text.split\n",
    "    hashtags = re.findall(r'#[^\\ ]*', text)\n",
    "    ats = re.findall(r'@[^\\ ]*', text)\n",
    "    return (text, str(hashtags), str(ats))\n",
    "\n",
    "text, hashtags, ats = content(tw)\n",
    "print(\"content:\", text)\n",
    "print(\"#\", hashtags)\n",
    "print(\"@\", ats)\n"
   ]
  },
  {
   "cell_type": "markdown",
   "metadata": {
    "collapsed": true
   },
   "source": [
    "### Account - CSS selector:\n",
    "#stream-item-tweet-1007278701996802048 > div > div.content > div.stream-item-header > a > span.username.u-dir.u-textTruncate"
   ]
  },
  {
   "cell_type": "code",
   "execution_count": 5,
   "metadata": {},
   "outputs": [
    {
     "name": "stdout",
     "output_type": "stream",
     "text": [
      "Twitter handle: @realDonaldTrump\n",
      "Name: Donald J. Trump\n"
     ]
    }
   ],
   "source": [
    "#account\n",
    "def account(tw):\n",
    "    info = tw.select('> div > div.content > div.stream-item-header > a')[0].text.replace('\\n', '').split('Compte certifié')\n",
    "    twitter_handle = info[1][1:]\n",
    "    name = info[0][:-1]\n",
    "    return (twitter_handle, name)\n",
    "\n",
    "twitter_handle, name = account(tw)\n",
    "print(\"Twitter handle:\", twitter_handle)\n",
    "print(\"Name:\", name)"
   ]
  },
  {
   "cell_type": "markdown",
   "metadata": {},
   "source": [
    "### CSS selector:\n",
    "#stream-item-tweet-1007278701996802048 > div > div.content > div.stream-item-header > small > a"
   ]
  },
  {
   "cell_type": "code",
   "execution_count": 6,
   "metadata": {},
   "outputs": [
    {
     "name": "stdout",
     "output_type": "stream",
     "text": [
      "date: 05:58 - 28/04/2018\n"
     ]
    }
   ],
   "source": [
    "#content\n",
    "def date(tw):\n",
    "    try:\n",
    "        date = tw.select('> div > div.content > div.stream-item-header > small > a')[0].attrs['title']\n",
    "    except:\n",
    "        date = tw.select('> div > div.content > div.stream-item-header > small > a')[0].text\n",
    "    date = date.replace(' janv. ', '/01/')\n",
    "    date = date.replace(' févr. ', '/02/')\n",
    "    date = date.replace(' mars ', '/03/')\n",
    "    date = date.replace(' avr. ', '/04/')\n",
    "    date = date.replace(' mai ', '/05/')\n",
    "    date = date.replace(' jun. ', '/06/')\n",
    "    date = date.replace(' juin ', '/06/')\n",
    "    date = date.replace(' juil. ', '/07/')\n",
    "    date = date.replace(' août ', '/08/')\n",
    "    date = date.replace(' sept. ', '/09/')\n",
    "    date = date.replace(' oct. ', '/10/')\n",
    "    date = date.replace(' nov. ', '/11/')\n",
    "    date = date.replace(' déc. ', '/12/')\n",
    "    return date\n",
    "\n",
    "d = date(tw)\n",
    "print(\"date:\", d)"
   ]
  },
  {
   "cell_type": "markdown",
   "metadata": {
    "collapsed": true
   },
   "source": [
    "## get all data from tweets"
   ]
  },
  {
   "cell_type": "code",
   "execution_count": 7,
   "metadata": {},
   "outputs": [
    {
     "name": "stdout",
     "output_type": "stream",
     "text": [
      "twitter handle | name | search term | text | hashtags | ats | date\n",
      "@realDonaldTrump | Donald J. Trump | leak | So, the Democrats make up a phony crime, Collusion with the Russians, pay a fortune to make the crime sound real, illegally leak (Comey) classified information so that a Special Councel will be appointed, and then Collude to make this pile of garbage take on life in Fake News! | [] | [] | 08:08 - 14/06/2018\n",
      "@realDonaldTrump | Donald J. Trump | leak | The so-called leaks coming out of the White House are a massive over  exaggeration put out by the Fake News Media in order to make us look as bad as possible. With that being said, leakers are traitors and cowards, and we will find out who they are! | [] | [] | 13:46 - 14/05/2018\n",
      "@realDonaldTrump | Donald J. Trump | leak | “Clapper lied about (fraudulent) Dossier leaks to CNN” @foxandfriends FoxNews  He is a lying machine who now works for Fake News CNN. | [] | ['@foxandfriends'] | 05:58 - 28/04/2018\n",
      "@realDonaldTrump | Donald J. T   [...]\n"
     ]
    }
   ],
   "source": [
    "def get_data(tweets, search_term='leak', delim=' | '):\n",
    "    out=''\n",
    "    out+='twitter handle'+delim+'name'+delim+'search term'+delim+'text'+delim+'hashtags'+delim+'ats'+delim+'date\\n'\n",
    "    for tw in tweets:\n",
    "        out+=delim.join(account(tw))+delim\n",
    "        out+=search_term+delim\n",
    "        out+=delim.join(content(tw))+delim\n",
    "        out+=date(tw)+'\\n'\n",
    "    return out\n",
    "\n",
    "\n",
    "print(get_data(tweets)[:1000]+'   [...]')"
   ]
  },
  {
   "cell_type": "code",
   "execution_count": null,
   "metadata": {
    "collapsed": true
   },
   "outputs": [],
   "source": []
  },
  {
   "cell_type": "markdown",
   "metadata": {},
   "source": [
    "# all accounts:\n",
    "\n",
    "leak from:nytimes [good for comparison w/ the straight nyt api]\n",
    "\n",
    "leak from:maggieNYT [This is one of the NYT's white house correspondents]\n",
    "\n",
    "leak from:washingtonpost\n",
    "\n",
    "leak from:cnn\n",
    "\n",
    "leak from:wsj [ interestingly, this one has *very* few white house leaks and a lot of other kinds, including oil leaks. lol]"
   ]
  },
  {
   "cell_type": "markdown",
   "metadata": {},
   "source": [
    "## leak from:realDonaldTrump"
   ]
  },
  {
   "cell_type": "code",
   "execution_count": 8,
   "metadata": {
    "scrolled": true
   },
   "outputs": [
    {
     "name": "stdout",
     "output_type": "stream",
     "text": [
      "twitter handle | name | search term | text | hashtags | ats | date\n",
      "@realDonaldTrump | Donald J. Trump | leak | So, the Democrats make up a phony crime, Collusion with the Russians, pay a fortune to make the crime sound real, illegally leak (Comey) classified information so that a Special Councel will be appointed, and then Collude to make this pile of garbage take on life in Fake News! | [] | [] | 08:08 - 14/06/2018\n",
      "@realDonaldTrump | Donald J. Trump | leak | The so-called leaks coming out of the White House are a massive over  exaggeration put out by the Fake News Media in order to make us look as bad as possible. With that being said, leakers are traitors and cowards, and we will find out who they are! | [] | [] | 13:46 - 14/05/2018\n",
      "@realDonaldTrump | Donald J. Trump | leak | “Clapper lied about (fraudulent) Dossier leaks to CNN” @foxandfriends FoxNews  He is a lying machine who now works for Fake News CNN. | [] | ['@foxandfriends'] | 05:58 - 28/04/2018\n",
      "@realDonaldTrump | Donald J. Trump | leak | Is everybody believing what is going on. James Comey can’t define what a leak is. He illegally leaked CLASSIFIED INFORMATION but doesn’t understand what he did or how serious it is. He lied all over the place to cover it up. He’s either very sick or very dumb. Remember sailor! | [] | [] | 03:26 - 27/04/2018\n",
      "@realDonaldTrump | Donald J. Trump | leak | So General Michael Flynn’s life can be totally destroyed while Shadey James Comey can Leak and Lie and make lots of money from a third rate book (that should never have been written). Is that really the way life in America is supposed to work? I don’t think so! | [] | [] | 03:34 - 20/04/2018\n",
      "@realDonaldTrump | Donald J. Trump | leak | The Fake News is beside themselves that McCabe was caught, called out and fired. How many hundreds of thousands of dollars was given to wife’s campaign by Crooked H friend, Terry M, who was also under investigation? How many lies? How many leaks? Comey knew it all, and much more! | [] | [] | 10:34 - 17/03/2018\n",
      "@realDonaldTrump | Donald J. Trump | leak | Little Adam Schiff, who is desperate to run for higher office, is one of the biggest liars and leakers in Washington, right up there with Comey, Warner, Brennan and Clapper! Adam leaves closed committee hearings to illegally leak confidential information. Must be stopped! | [] | [] | 04:39 - 5/02/2018\n",
      "@realDonaldTrump | Donald J. Trump | leak | After many years of LEAKS going on in Washington, it is great to see the A.G. taking action! For National Security, the tougher the better! | [] | [] | 15:58 - 5/08/2017\n",
      "@realDonaldTrump | Donald J. Trump | leak | While all agree the U. S. President has the complete power to pardon, why think of that when only crime so far is LEAKS against us.FAKE NEWS | [] | [] | 04:35 - 22/07/2017\n",
      "@realDonaldTrump | Donald J. Trump | leak | A new INTELLIGENCE LEAK from the Amazon Washington Post,this time against A.G. Jeff Sessions.These illegal leaks, like Comey's, must stop! | [] | [] | 03:33 - 22/07/2017\n",
      "@realDonaldTrump | Donald J. Trump | leak | I believe the James Comey leaks will be far more prevalent than anyone ever thought possible. Totally illegal? Very 'cowardly!' | [] | [] | 05:29 - 11/06/2017\n",
      "@realDonaldTrump | Donald J. Trump | leak | It is my opinion that many of the leaks coming out of the White House are fabricated lies made up by the #FakeNews media. | ['#FakeNews'] | [] | 05:33 - 28/05/2017\n",
      "@realDonaldTrump | Donald J. Trump | leak | ...is all of the illegal leaks of classified and other information. It is a total \"witch hunt!\" | [] | [] | 18:38 - 2/03/2017\n",
      "@realDonaldTrump | Donald J. Trump | leak | Russia talk is FAKE NEWS put out by the Dems, and played up by the media, in order to mask the big election defeat and the illegal leaks! | [] | [] | 10:16 - 26/02/2017\n",
      "@realDonaldTrump | Donald J. Trump | leak | The real story here is why are there so many illegal leaks coming out of Washington? Will these leaks be happening as I deal on N.Korea etc? | [] | [] | 06:28 - 14/02/2017\n",
      "@realDonaldTrump | Donald J. Trump | leak | Intelligence agencies should never have allowed this fake news to \"leak\" into the public. One last shot at me.Are we living in Nazi Germany? | [] | [] | 04:48 - 11/01/2017\n",
      "@realDonaldTrump | Donald J. Trump | leak | It’s Tuesday. How many more ‘The View’ Execs will leak that they want @rosie gone? Show is failing. | [] | ['@rosie'] | 13:36 - 2/12/2014\n",
      "@realDonaldTrump | Donald J. Trump | leak | Between Libya, the national security leaks and Fast & Furious, Obama has had more national security scandals than any other President. | [] | [] | 11:20 - 16/10/2012\n",
      "@realDonaldTrump | Donald J. Trump | leak | Whatever happened to Obama's 'independent investigation' into national security leaks from his administration? Where's the media? | [] | [] | 11:20 - 11/09/2012\n",
      "@realDonaldTrump | Donald J. Trump | leak | Military reps have attacked @BarackObama over Bin Laden leaks--they believe he's just using this for his benefit. Not a big surprise... | [] | ['@BarackObama'] | 08:14 - 16/08/2012\n",
      "\n"
     ]
    }
   ],
   "source": [
    "tweets = get_tweets('tweets_research/trump.html')\n",
    "print(get_data(tweets))"
   ]
  },
  {
   "cell_type": "markdown",
   "metadata": {},
   "source": [
    "## leak from:seanhannity"
   ]
  },
  {
   "cell_type": "code",
   "execution_count": 9,
   "metadata": {
    "scrolled": true
   },
   "outputs": [
    {
     "name": "stdout",
     "output_type": "stream",
     "text": [
      "twitter handle | name | search term | text | hashtags | ats | date\n",
      "@seanhannity | Sean Hannity | leak | Clearly a leak by the special counsel’s office again with anonymous sources https://www.hannity.com/media-room/mueller-mayhem-special-counsels-questions-for-trump-leaked-to-ny-times/amp/ … | [] | [] | 07:35 - 1/05/2018\n",
      "@seanhannity | Sean Hannity | leak | Mr Comey what did you know about McCabe’s leaks/Conduct? Why was the unverified and salacious dossier (January 2017) used as “the bulk” of the FISC application (October 2016)? Why didn’t the FBI verify and corroborate the Dossier? Did you know the Dossier used “Russian” sources? https://twitter.com/comey/status/975065073575219200 … | [] | [] | 17 mars\n",
      "@seanhannity | Sean Hannity | leak | AG Sessions announced that leak investigations have tripled under President Trump... @KellyannePolls explains next #Hannity | ['#Hannity'] | ['@KellyannePolls'] | 19:26 - 4/08/2017\n",
      "@seanhannity | Sean Hannity | leak | On #Hannity at 10pm I will react to what is happening in the Senate plus an explosive new report on government leaks | ['#Hannity'] | [] | 17:30 - 27/07/2017\n",
      "@seanhannity | Sean Hannity | leak | Next... White House Comms Director @Scaramucci is here to talk about how he's putting an end to the White House leaks #Hannity | ['#Hannity'] | ['@Scaramucci'] | 19:27 - 26/07/2017\n",
      "@seanhannity | Sean Hannity | leak | New White House Communications Director @Scaramucci says the White House is going to hit a \"cultural reset on leaks\"… More at 10pm #Hannity | ['#Hannity'] | ['@Scaramucci'] | 18:51 - 26/07/2017\n",
      "@seanhannity | Sean Hannity | leak | Deep State selectively Unmasks and leaks Intel-NO PROBLEM! Comey LEAKS Government Documents-NO PROBLEM. Dems/media Lie, slander, NO PROBLEM! | [] | [] | 17:25 - 9/07/2017\n",
      "@seanhannity | Sean Hannity | leak | Investigations needed. 1-\"Comey, leaks/records act. 2-\"Matter\" Lynch Obstruction 3-Hillary, a)Mishandling/destruction classified documents | [] | [] | 11:58 - 27/06/2017\n",
      "@seanhannity | Sean Hannity | leak | #Hannity starts in 30 minutes and I will be joined by John Solomon and @SaraCarterDC with their latest report on government leaks | ['#Hannity'] | ['@SaraCarterDC'] | 18:30 - 6/06/2017\n",
      "@seanhannity | Sean Hannity | leak | This is beyond true I would also add that in my interview with @JulianAssange he said \"Russia was NOT the source of the leak\" 11 yrs correct https://twitter.com/julianassange/status/871398127160393729 … | [] | ['@JulianAssange'] | 09:32 - 6/06/2017\n",
      "@seanhannity | Sean Hannity | leak | Question of the Day: Do you think the deep state leaks are hurting the country? #Hannity | ['#Hannity'] | [] | 19:58 - 30/05/2017\n",
      "@seanhannity | Sean Hannity | leak | DHS Secretary says the leaks in DC could have crossed the line of treason… @JaySekulow, @SaraCarterDC and John Solomon react next #Hannity | ['#Hannity'] | ['@JaySekulow,', '@SaraCarterDC'] | 19:43 - 30/05/2017\n",
      "@seanhannity | Sean Hannity | leak | James Comey failed to go after leaks coming from the government... so will the next FBI director do the same? @SaraCarterDC is here #Hannity | ['#Hannity'] | ['@SaraCarterDC'] | 19:40 - 15/05/2017\n",
      "@seanhannity | Sean Hannity | leak | \"Several people close to him\" Everyone knows people at every WH and every corp. have agendas and leak. Maybe a new standard. \"On the record\" https://twitter.com/maggienyt/status/855906724640952320 … | [] | [] | 04:54 - 23/04/2017\n",
      "@seanhannity | Sean Hannity | leak | Bombshell development on the issue of Surveillance vs @POTUS &his transition team. Also huge news on \"Unmasking\" and intel leaks. 10 est FNC https://twitter.com/seanhannity/status/847176537279418368 … | [] | ['@POTUS'] | 16:47 - 29/03/2017\n",
      "@seanhannity | Sean Hannity | leak | Now these same never Trump idiots cannot recognize the felonies (leaks) being committed by some in the intelligence community & ...... | [] | [] | 21:24 - 12/03/2017\n",
      "@seanhannity | Sean Hannity | leak | The illegal leaks that very likely came from people JC knows well. That's a hell of a source. https://twitter.com/jonfavs/status/838429775987290112 … | [] | [] | 09:10 - 5/03/2017\n",
      "@seanhannity | Sean Hannity | leak | I'm sure you are aware that the Intel community standard practice is also NOT to identify the American after the fact &cant legally leak it https://twitter.com/seanhannity/status/838433280118644736 … | [] | [] | 09:00 - 5/03/2017\n",
      "@seanhannity | Sean Hannity | leak | @jonfavs What possible reason?  To insure leaks like we r seeing? The Gen. Flynn leak violated the law. Where was the \"minimization\"? https://twitter.com/seanhannity/status/838105314549460992 … | [] | ['@jonfavs'] | 08:54 - 5/03/2017\n",
      "@seanhannity | Sean Hannity | leak | Let's investigate you, Valerie, Obama, and intelligence leaks. Let's start there. Then Lynch, HRC.  Great idea Ben. Have u called a lawyer? https://twitter.com/brhodes/status/838211688008728576 … | [] | [] | 19:16 - 4/03/2017\n",
      "@seanhannity | Sean Hannity | leak | Grassley Demands DOJ COMES CLEAN Over Comey Leaks\n",
      "https://www.hannity.com/media-room/grassley-unchained-the-senator-demands-doj-comes-clean-over-comey-leaks/ … | [] | [] | 09:27 - 4/01/2018\n",
      "@seanhannity | Sean Hannity | leak | Next Deputy Assistant to the President @SebGorka has reaction to the leaks coming out of the White House #Hannity | ['#Hannity'] | ['@SebGorka'] | 19:49 - 16/05/2017\n",
      "@seanhannity | Sean Hannity | leak | Up next @JaySekulow and @David_Bossie weigh in on the leaks coming out of Washington #Hannity | ['#Hannity'] | ['@JaySekulow', '@David_Bossie'] | 19:17 - 16/05/2017\n",
      "@seanhannity | Sean Hannity | leak | .@SaraCarterDC reported the FBI has been slowed by prosecutors in probe of Russian intel leaks... She joins me at 10pm to explain #Hannity | ['#Hannity'] | ['@SaraCarterDC'] | 18:30 - 20/03/2017\n",
      "@seanhannity | Sean Hannity | leak | @NBCNews on Jihad against @POTUS From access Hollywood, to morning Lib Joe, to Deep State Leaks. Media Corporate Jihad. Details at 10 FNC | [] | ['@NBCNews', '@POTUS'] | 17:47 - 14/03/2017\n",
      "@seanhannity | Sean Hannity | leak | The Alt Left Propaganda media will run with every leak to help distract from Obamas & Co's role in spying on @POTUS @realDonaldTrumphttps://twitter.com/valeriejarrett/status/838083755168382976 … | [] | ['@POTUS', '@realDonaldTrumphttps://twitter.com/valeriejarrett/status/838083755168382976\\xa0…'] | 14:08 - 4/03/2017\n",
      "@seanhannity | Sean Hannity | leak | On radio I have discussed the \"Shadow Government\" \"Deep state swamp of Obama holdovers and DC lifers\" watch for Tons of leaks this week!!!!! https://twitter.com/valeriejarrett/status/838083755168382976 … | [] | [] | 14:05 - 4/03/2017\n",
      "@seanhannity | Sean Hannity | leak | President Trump addressed the illegal leaks that forced Mike Flynn to resign… Congressmen @DevinNunes & @SteveKingIA react next #Hannity | ['#Hannity'] | ['@DevinNunes', '@SteveKingIA'] | 19:17 - 15/02/2017\n",
      "@seanhannity | Sean Hannity | leak | There needs to be a heavy penalty for hackers who leak private photos from accounts. What happened to these women is horrifying #Hannity | ['#Hannity'] | [] | 19:42 - 2/09/2014\n",
      "@seanhannity | Sean Hannity | leak | Next, “The Great One” @marklevinshow weighs in on the president’s speech, VA scandal & CIA leak ON #Hannity | ['#Hannity'] | ['@marklevinshow'] | 28/05/2014\n",
      "\n"
     ]
    }
   ],
   "source": [
    "tweets = get_tweets('tweets_research/seanhannity.html')\n",
    "print(get_data(tweets))"
   ]
  },
  {
   "cell_type": "markdown",
   "metadata": {},
   "source": [
    "## leak from:foxnews\n",
    "==> very large !"
   ]
  },
  {
   "cell_type": "code",
   "execution_count": 10,
   "metadata": {},
   "outputs": [
    {
     "name": "stdout",
     "output_type": "stream",
     "text": [
      "twitter handle | name | search term | text | hashtags | ats | date\n",
      "@FoxNews | Fox News | leak | FBI Director Wray: “We are aggressively investigating a number of leaks, even as we speak.” pic.twitter.com/CbR922EjD6 | [] | [] | 13:03 - 18/06/2018\n",
      "@FoxNews | Fox News | leak | Democratic senators accuse @POTUS of possible leak, call for investigation into jobs report tweet. https://fxn.ws/2JnTAdL  | [] | ['@POTUS'] | 18:57 - 8/06/2018\n",
      "@FoxNews | Fox News | leak | Ali Watkins' past tweets come back to haunt NYT reporter amid leak case http://www.foxnews.com/politics/2018/06/08/ali-watkins-past-tweets-come-back-to-haunt-nyt-reporter-amid-leak-case.html … | [] | [] | 17:33 - 8/06/2018\n",
      "@FoxNews | Fox News | leak | .@POTUS: “You can not leak classified information. At the same time, we need freedom of the press.” pic.twitter.com/DF8GvABvLi | [] | ['@POTUS:'] | 06:15 - 8/06/2018\n",
      "@FoxNews | Fox News | leak | BREAKING NEWS: Senate Intel ex-security director indicted on false-statements charges in probe of possible leaks. https://fxn.ws/2JlH6TV  | [] | [] | 19:41 - 7/06/2018\n",
      "@FoxNews | Fox News | leak | .@DevinNunes: \"We're not going to go to another meeting where we don't get documents and then the meeting leaks out. This should make people very suspicious - they were trying to get Mr. Gowdy & I to go on Friday to @TheJusticeDept for supposedly another briefing.\" #SundayFuturespic.twitter.com/RjJ6XgHeDy | ['#SundayFuturespic.twitter.com/RjJ6XgHeDy'] | ['@DevinNunes:', '@TheJusticeDept'] | 07:24 - 20/05/2018\n",
      "@FoxNews | Fox News | leak | .@seanspicer on @WhiteHouse leaks: \"Anybody who goes there and leaks really undermines both the honor that the president has bestowed upon them and the agenda that the president's pursuing on behalf of the American people.\" #TheStory https://bit.ly/2ImM1iM pic.twitter.com/9dGNXGLHDK | ['#TheStory'] | ['@seanspicer', '@WhiteHouse'] | 16:55 - 15/05/2018\n",
      "@FoxNews | Fox News | leak | Kellyanne Conway: Expect WH 'Personnel Changes' After Anti-McCain Leak. http://bit.ly/2Io7vvA  | [] | [] | 20:07 - 14/05/2018\n",
      "@FoxNews | Fox News | leak | Clapper hit for dossier leak dodge in House GOP Russia report - via @brookefoxnewshttp://www.foxnews.com/politics/2018/04/30/clapper-hit-for-dossier-leak-dodge-in-house-gop-russia-report.html … | [] | ['@brookefoxnewshttp://www.foxnews.com/politics/2018/04/30/clapper-hit-for-dossier-leak-dodge-in-house-gop-russia-report.html\\xa0…'] | 09:11 - 30/04/2018\n",
      "@FoxNews | Fox News | leak | .@ChristopherHahn: \"I think we have far too much classified information in this country...what @Comey put out there didn't seem to violate any national security. It might have embarrassed @POTUS politically, but it was hardly a leak.\" @JudgeJeaninepic.twitter.com/GEJ4DGyZPC | [] | ['@ChristopherHahn:', '@Comey', '@POTUS', '@JudgeJeaninepic.twitter.com/GEJ4DGyZPC'] | 18:38 - 28/04/2018\n",
      "@FoxNews | Fox News | leak | Gowdy: James Comey Has a Different Definition of 'Leak' Than Anybody Else http://insider.foxnews.com/2018/04/27/trey-gowdy-james-comey-has-different-definition-leak-anybody-else … | [] | [] | 08:14 - 27/04/2018\n",
      "@FoxNews | Fox News | leak | .@POTUS slams Comey's 'leak' denial: 'Very sick or very dumb' https://fxn.ws/2HuHcra  | [] | ['@POTUS'] | 04:32 - 27/04/2018\n",
      "@FoxNews | Fox News | leak | .@TGowdySC on @Comey #SpecialReport interview: \"Jim Comey has a definition of the word 'leak' that no one else has. What he says is a leak is what the rest of us call a felony.\" #Tucker https://fxn.ws/2vLVhuQ pic.twitter.com/vgnnMXBlhc | ['#SpecialReport', '#Tucker'] | ['@TGowdySC', '@Comey'] | 17:12 - 26/04/2018\n",
      "@FoxNews | Fox News | leak | .@Comey: \"I don't consider what I did with Mr. Richman a leak. I told him about an unclassified conversation with @POTUS.\" #SpecialReportpic.twitter.com/iDA5K7JsMU | ['#SpecialReportpic.twitter.com/iDA5K7JsMU'] | ['@Comey:', '@POTUS.\"'] | 15:57 - 26/04/2018\n",
      "@FoxNews | Fox News | leak | .@Jim_Jordan on James Comey: A leak’s a leak. A leak is when you take information and give it to the press. @foxandfriendspic.twitter.com/513w0TsD8F | [] | ['@Jim_Jordan', '@foxandfriendspic.twitter.com/513w0TsD8F'] | 04:22 - 26/04/2018\n",
      "@FoxNews | Fox News | leak | .@gabriellahope_: \"This whole book tour has really backfired for Mr. @Comey. He's now facing questions and an internal probe at the DOJ over whether or not he did indeed leak classified information.\" #FoxReport https://bit.ly/2K2AhTL pic.twitter.com/sufHro6uiA | ['#FoxReport'] | ['@gabriellahope_:', '@Comey.'] | 15:47 - 22/04/2018\n",
      "@FoxNews | Fox News | leak | .@TGowdySC: \"Jim Comey said, 'I don't do sneaky things,' except memorialize private conversations. 'I don't leak,' except when I do leak. And 'I don't do weasel things' - I think this whole book tour is a pretty weasely thing, quite frankly.\" pic.twitter.com/EfaBX4IC6f | [] | ['@TGowdySC:'] | 00:25 - 21/04/2018\n",
      "@FoxNews | Fox News | leak | .@MZHemingway on @Comey memos: \"The later memos are written almost as if they were designed for the purpose of a leak.\"  #TheStory https://fxn.ws/2F4256u pic.twitter.com/QH65OlvawB | ['#TheStory'] | ['@MZHemingway', '@Comey'] | 16:53 - 20/04/2018\n",
      "@FoxNews | Fox News | leak | BREAKING NEWS: @WSJ: At least 2 memos @Comey gave to friend to leak contained classifed information according to @TheJusticeDept watchdog.pic.twitter.com/prTX23cnde | [] | ['@WSJ:', '@Comey', '@TheJusticeDept'] | 10:38 - 20/04/2018\n",
      "@FoxNews | Fox News | leak | Trump: Flynn's life 'destroyed' while Comey allowed to 'Leak and Lie'- via @brookefoxnewshttp://www.foxnews.com/politics/2018/04/20/trump-flynns-life-destroyed-while-comey-allowed-to-leak-and-lie.html … | [] | ['@brookefoxnewshttp://www.foxnews.com/politics/2018/04/20/trump-flynns-life-destroyed-while-comey-allowed-to-leak-and-lie.html\\xa0…'] | 05:01 - 20/04/2018\n",
      "@FoxNews | Fox News | leak | Love and leaks: Wolfe-Watkins latest couple to draw scrutiny for loose lips and tips https://fxn.ws/2sIqIlQ  | [] | [] | 10:30 - 9/06/2018\n",
      "@FoxNews | Fox News | leak | .@POTUS: “You can not leak classified information. At the same time, we need freedom of the press.” pic.twitter.com/zonzNQelY2 | [] | ['@POTUS:'] | 21:46 - 8/06/2018\n",
      "@FoxNews | Fox News | leak | Justice Department looking into possible leaks from former Senate aide. https://fxn.ws/2LxzpGS  | [] | [] | 19:21 - 7/06/2018\n",
      "@FoxNews | Fox News | leak | Gowdy Cautions Dems on Bipartisan Russia Meeting: Have an Open Mind and Don't 'Leak Like a Sieve' http://bit.ly/2s2hmkv  | [] | [] | 14:51 - 23/05/2018\n",
      "@FoxNews | Fox News | leak | Marie Harf on WH hints at staff changes over leaks: “It seems like there are people inside the White House who just don’t like each other.” pic.twitter.com/bdtpqTwIIR | [] | [] | 06:56 - 15/05/2018\n",
      "@FoxNews | Fox News | leak | Hugo Gurdon: “What’s extraordinary about the leaks this time though is not so much how many there are…it’s the nature of those leaks.” https://bit.ly/2ImM1iM pic.twitter.com/ByKVFUSFi3 | [] | [] | 06:31 - 15/05/2018\n",
      "@FoxNews | Fox News | leak | .@KellyannePolls: \"There are all kinds of leaks...but none of them are helpful.\"  #TheStory https://fxn.ws/2ICVXYL pic.twitter.com/dNe49zFDSo | ['#TheStory'] | ['@KellyannePolls:'] | 16:31 - 14/05/2018\n",
      "@FoxNews | Fox News | leak | .@TomFitton: New Memo Leak Details Are 'Further Evidence of @FBI Corruption' Under @Comey #OutnumberedOThttp://insider.foxnews.com/2018/05/03/tom-fitton-new-details-james-comey-memo-leak-further-evidence-fbi-corruption … | ['#OutnumberedOThttp://insider.foxnews.com/2018/05/03/tom-fitton-new-details-james-comey-memo-leak-further-evidence-fbi-corruption\\xa0…'] | ['@TomFitton:', '@FBI', '@Comey'] | 13:11 - 3/05/2018\n",
      "@FoxNews | Fox News | leak | Comey’s memo leak contact worked at FBI for over a year, defended him in media on Clinton probe https://fxn.ws/2rjKSkL  | [] | [] | 12:22 - 3/05/2018\n",
      "@FoxNews | Fox News | leak | .@RepPeteKing on alleged dossier leak: \"This is a whole dark period in American intelligence.\" #TheStory https://fxn.ws/2FtTWsn pic.twitter.com/T6gd0mW7oA | ['#TheStory'] | ['@RepPeteKing'] | 16:25 - 30/04/2018\n",
      "@FoxNews | Fox News | leak | Clapper hit for dossier leak dodge in House GOP Russia report @brookefoxnewshttp://www.foxnews.com/politics/2018/04/30/clapper-hit-for-dossier-leak-dodge-in-house-gop-russia-report.html … | [] | ['@brookefoxnewshttp://www.foxnews.com/politics/2018/04/30/clapper-hit-for-dossier-leak-dodge-in-house-gop-russia-report.html\\xa0…'] | 10:22 - 30/04/2018\n",
      "@FoxNews | Fox News | leak | Trump slams Comey's 'leak' denial: 'Very sick or very dumb' - via @JuddBergerhttp://www.foxnews.com/politics/2018/04/27/trump-slams-comeys-leak-denial-very-sick-or-very-dumb.html … | [] | ['@JuddBergerhttp://www.foxnews.com/politics/2018/04/27/trump-slams-comeys-leak-denial-very-sick-or-very-dumb.html\\xa0…'] | 04:38 - 27/04/2018\n",
      "@FoxNews | Fox News | leak | .@TGowdySC on @Comey interview: \"Jim Comey has a definition of the word 'leak' that no one else has. What he says is a leak is what the rest of us call a felony.\" #Tucker https://fxn.ws/2vLVhuQ pic.twitter.com/Vm4zrLAQDG | ['#Tucker'] | ['@TGowdySC', '@Comey'] | 00:30 - 27/04/2018\n",
      "@FoxNews | Fox News | leak | James Comey claims release of memo contents not a 'leak' in Fox News interview http://www.foxnews.com/politics/2018/04/26/comey-plays-defense-on-fbi-memo-release-denies-being-leaker.html … | [] | [] | 16:02 - 26/04/2018\n",
      "@FoxNews | Fox News | leak | .@Comey's memo leak contact had 'special government employee' status at FBI https://fxn.ws/2Hqfxb1  | [] | [\"@Comey's\"] | 02:16 - 25/04/2018\n",
      "@FoxNews | Fox News | leak | OPINION: James @Comey's ABC interview sidesteps his shocking decision to break every rule and leak to the press https://fxn.ws/2qyA3Li  | [] | [\"@Comey's\"] | 22:29 - 15/04/2018\n",
      "@FoxNews | Fox News | leak | .@AlanDersh on James Comey: \"This is a man who is revenge-driven. Who is prepared to leak through a law professor at @Columbia. Who is prepared to disclose confidential conversations he had with the president-elect and @POTUS.\" #Tuckerpic.twitter.com/q0oNyQwapO | ['#Tuckerpic.twitter.com/q0oNyQwapO'] | ['@AlanDersh', '@Columbia.', '@POTUS.\"'] | 17:12 - 13/04/2018\n",
      "@FoxNews | Fox News | leak | .@AxiosNick on Russia probe: \"These leaks aren't coming from Mueller. Nothing comes out of Mueller's team. These are coming from lawyers and attorneys who are questioned by Mueller and then go to reporters and say what they were asked about.\" @ShepNewsTeampic.twitter.com/bwLIcsDrTD | [] | ['@AxiosNick', '@ShepNewsTeampic.twitter.com/bwLIcsDrTD'] | 12:37 - 30/03/2018\n",
      "@FoxNews | Fox News | leak | JUST IN: Iowa family found dead in Mexico likely killed by water heater gas leak, official says https://fxn.ws/2pIV6KL  | [] | [] | 09:40 - 26/03/2018\n",
      "@FoxNews | Fox News | leak | .@RepGoodlatte: \"We just learned yesterday that the former Deputy Director of the @FBI was authorizing leaks in his official capacity to the @WSJ​ regarding the investigation into the @HillaryClinton​ email matter.\"pic.twitter.com/hxXgQH5fUd | [] | ['@RepGoodlatte:', '@FBI', '@WSJ\\u200b', '@HillaryClinton\\u200b'] | 07:59 - 3/03/2018\n",
      "@FoxNews | Fox News | leak | AG Sessions: \"That is a violation of the law to leak classified documents. It is being investigated.\" #SundayFutures @MariaBartiromopic.twitter.com/TKCITfd5so | ['#SundayFutures'] | ['@MariaBartiromopic.twitter.com/TKCITfd5so'] | 07:12 - 18/02/2018\n",
      "@FoxNews | Fox News | leak | .@TuckerCarlson on use of Steele dossier in Russia probe: \"In a moment like this, when leaks are the coin of the realm in Washington...it's hard to imagine we haven't heard of any other evidence. So maybe there isn't any.\" #Tucker http://fxn.ws/2BLnqEQ pic.twitter.com/bJV6TQd0Gv | ['#Tucker'] | ['@TuckerCarlson'] | 17:22 - 7/02/2018\n",
      "@FoxNews | Fox News | leak | .@DevinNunes Blasts Adam Schiff: 'Almost 100 Leaks' by Democrats on House Intel Committee http://insider.foxnews.com/2018/02/05/devin-nunes-blasts-adam-schiff-almost-100-leaks-democrats-house-intel-committee … | [] | ['@DevinNunes'] | 07:31 - 5/02/2018\n",
      "@FoxNews | Fox News | leak | .@DonaldJTrumpJr asks for investigation into leaks of House panel interview  http://www.foxnews.com/politics/2017/12/12/trump-jr-asks-for-investigation-into-leaks-house-panel-interview.html … | [] | ['@DonaldJTrumpJr'] | 16:03 - 12/12/2017\n",
      "@FoxNews | Fox News | leak | J. Christian Adams: \"It's illegal for Robert Mueller to leak, it's illegal for his staff to be leaking secret grand jury testimony. Those are crimes.\" pic.twitter.com/6ZyAcuN4VA | [] | [] | 03:21 - 25/11/2017\n",
      "@FoxNews | Fox News | leak | AG Jeff Sessions: “We have 27 ongoing investigations. Some of those involve leaks before President Trump took office and some after.” http://fxn.ws/2zGRXBx pic.twitter.com/3XYCeymCcB | [] | [] | 10:20 - 14/11/2017\n",
      "@FoxNews | Fox News | leak | Gowdy slams Mueller team over leaks about charges in Trump-Russia probe http://fxn.ws/2z0glhg  | [] | [] | 07:04 - 29/10/2017\n",
      "@FoxNews | Fox News | leak | .@seanhannity: \"There also needs to be investigations into the disturbing amount of deep state leaks.\" #Hannitypic.twitter.com/5RQHv6icu3 | ['#Hannitypic.twitter.com/5RQHv6icu3'] | ['@seanhannity:'] | 19:29 - 21/09/2017\n",
      "@FoxNews | Fox News | leak | .@jasoninthehouse on Leaks: 'Start Putting People in Handcuffs' http://bit.ly/2wF7Dk5  | [] | ['@jasoninthehouse'] | 10:30 - 8/08/2017\n",
      "@FoxNews | Fox News | leak | Bill Bennett on the role of the media in leaks: The \"first amendment is not a license to ruin your country.\" pic.twitter.com/SQMb6P62Qi | [] | [] | 05:38 - 7/08/2017\n",
      "@FoxNews | Fox News | leak | Rosenstein ready to prosecute 'anybody who breaks the law' in effort to stop leaks\n",
      "http://www.foxnews.com/politics/2017/08/06/rosenstein-ready-to-prosecute-anybody-who-breaks-law-in-effort-to-stop-leaks.html … | [] | [] | 14:08 - 6/08/2017\n",
      "@FoxNews | Fox News | leak | .@SebGorka: \"When you get Democratic politicians on the Hill say that that leak is disgraceful, you know we have sunken to a new low.\" pic.twitter.com/9h8gnhfDgb | [] | ['@SebGorka:'] | 12:26 - 6/08/2017\n",
      "@FoxNews | Fox News | leak | Leon Panetta: \"I don't think these leaks are helpful in any way. I think they're dangerous.\" #SundayFutures @MariaBartiromopic.twitter.com/GQVqYBL8ip | ['#SundayFutures'] | ['@MariaBartiromopic.twitter.com/GQVqYBL8ip'] | 07:36 - 6/08/2017\n",
      "@FoxNews | Fox News | leak | David Bossie: \"These leaks that have been going on for the last 6 months are incredibly dangerous.\" pic.twitter.com/wocmeZYNLZ | [] | [] | 04:10 - 6/08/2017\n",
      "@FoxNews | Fox News | leak | .@SebGorka :\"[Jeff Sessions] will get to the bottom of the leaks.\" pic.twitter.com/AWUiuHkDfA | [] | ['@SebGorka'] | 21:00 - 5/08/2017\n",
      "@FoxNews | Fox News | leak | .@GovMikeHuckabee: \"When you start taking classified information... and leak it out, that's criminal activity.\" pic.twitter.com/ARjqZQ2oBG | [] | ['@GovMikeHuckabee:'] | 20:30 - 5/08/2017\n",
      "@FoxNews | Fox News | leak | .@POTUS praises @JeffSessions as the AG cracks down on White House leaks http://fxn.ws/2v3U6EO pic.twitter.com/nOuq48WnfQ | [] | ['@POTUS', '@JeffSessions'] | 16:03 - 5/08/2017\n",
      "@FoxNews | Fox News | leak | .@SebGorka: \"When you get Democratic politicians on the Hill say that that leak is disgraceful, you know we have sunken to a new low.\" pic.twitter.com/3twhE8eIVb | [] | ['@SebGorka:'] | 12:08 - 5/08/2017\n",
      "@FoxNews | Fox News | leak | .@GovMikeHuckabee: \"When you start taking classified information... and leak it out, that's criminal activity.\" pic.twitter.com/hWt8Ua3eHO | [] | ['@GovMikeHuckabee:'] | 11:08 - 5/08/2017\n",
      "@FoxNews | Fox News | leak | .@SebGorka :\"[Jeff Sessions] will get to the bottom of the leaks.\" pic.twitter.com/DZjxPA2jdI | [] | ['@SebGorka'] | 05:07 - 5/08/2017\n",
      "@FoxNews | Fox News | leak | .@KellyannePolls on @POTUS conversation leaks: “It hurts our national security.” #Hannity http://fxn.ws/2fgiFZI pic.twitter.com/NeNH0tufc8 | ['#Hannity'] | ['@KellyannePolls', '@POTUS'] | 19:35 - 4/08/2017\n",
      "@FoxNews | Fox News | leak | .@JaySekulow on leaks: “I’m hopeful that AG @JeffSessions will get more aggressive.” #Hannitypic.twitter.com/UZI2trcLWO | ['#Hannitypic.twitter.com/UZI2trcLWO'] | ['@JaySekulow', '@JeffSessions'] | 19:16 - 4/08/2017\n",
      "@FoxNews | Fox News | leak | .@jessebwatters: \"There's been a leak every day since @POTUS has been president.\"  #TheFive http://bit.ly/2v5qsPD pic.twitter.com/DQsOcDrYwv | ['#TheFive'] | ['@jessebwatters:', '@POTUS'] | 18:43 - 4/08/2017\n",
      "@FoxNews | Fox News | leak | Joseph DiGenova on White House leaks: “This is a rebellion against the vote of the American people for a specific policy.” #Tuckerpic.twitter.com/zUvlB8wn6A | ['#Tuckerpic.twitter.com/zUvlB8wn6A'] | [] | 17:18 - 4/08/2017\n",
      "@FoxNews | Fox News | leak | .@HowardKurtz on leaks to media: “It’s really important that [journalists] act responsibly.” #TheStorypic.twitter.com/3aFNF1h2je | ['#TheStorypic.twitter.com/3aFNF1h2je'] | ['@HowardKurtz'] | 16:22 - 4/08/2017\n",
      "@FoxNews | Fox News | leak | .@Dennis_Kucinich  on leaks: “It’s an effort to destroy @POTUS’ presidency.” @TeamCavuto http://fxn.ws/2vpZmnb pic.twitter.com/47ZF1ro4Pw | [] | ['@Dennis_Kucinich', '@POTUS’', '@TeamCavuto'] | 13:56 - 4/08/2017\n",
      "@FoxNews | Fox News | leak | Moments ago, Attorney General Jeff Sessions held a briefing on the investigation into leaks of classified material. http://fxn.ws/2vxb5QF pic.twitter.com/gHbpcotjWg | [] | [] | 08:42 - 4/08/2017\n",
      "@FoxNews | Fox News | leak | .@LindseyGrahamSC on Leaks: Someone Needs to Go to Jail\n",
      "http://insider.foxnews.com/2017/08/04/leaks-lindsey-graham-someone-go-jail … | [] | ['@LindseyGrahamSC'] | 08:25 - 4/08/2017\n",
      "@FoxNews | Fox News | leak | AG Sessions: I \"condemn in the strongest terms the staggering number of leaks undermining the ability of our govt to protect this country.\" pic.twitter.com/UT1iJKvpAI | [] | [] | 08:06 - 4/08/2017\n",
      "@FoxNews | Fox News | leak | .@LindseyGrahamSC: \"If it becomes a series of leaks on [Mueller's] side, we're going to hold him accountable.\" pic.twitter.com/HL32cYIaHT | [] | ['@LindseyGrahamSC:'] | 07:20 - 4/08/2017\n",
      "@FoxNews | Fox News | leak | Sessions unveiling leak crackdown on heels of transcript bombshell http://fxn.ws/2vzdJ97  | [] | [] | 05:31 - 4/08/2017\n",
      "@FoxNews | Fox News | leak | .@KellyannePolls on @foxandfriends: What really should concern everyone are leaks that imperil national security. http://fxn.ws/2hrj0tr pic.twitter.com/FwZAD1BFDl | [] | ['@KellyannePolls', '@foxandfriends:'] | 04:51 - 4/08/2017\n",
      "@FoxNews | Fox News | leak | Trump transcript leak likely a federal crime, former prosecutors say http://fxn.ws/2uoFrQU  via @AlexPappas | [] | ['@AlexPappas'] | 21:37 - 3/08/2017\n",
      "@FoxNews | Fox News | leak | .@CortesSteve on 'Treasonous' New Leaks of @POTUS's Calls: 'The Swamp Is Hard to Kill'http://insider.foxnews.com/2017/08/03/leaked-transcripts-trump-phone-calls-mexico-australia-leaders … | [] | ['@CortesSteve', \"@POTUS's\"] | 10:44 - 3/08/2017\n",
      "@FoxNews | Fox News | leak | .@krauthammer on stopping leaks: \"@POTUS did exactly the right thing. You bring in a Marine General...to read everybody the riot act.\"pic.twitter.com/S9cSZ1r4Eu | [] | ['@krauthammer', '@POTUS'] | 16:13 - 1/08/2017\n",
      "@FoxNews | Fox News | leak | Attorney-General Jeff Sessions will hold a press conference on leaks on Friday pic.twitter.com/R2vfFhkuSC | [] | [] | 05:12 - 1/08/2017\n",
      "@FoxNews | Fox News | leak | .@KellyannePolls on White House leaks: \"Dossier is just a fancy word for a load of junk.\" #FoxandFriendspic.twitter.com/LYP8zOf9ki | ['#FoxandFriendspic.twitter.com/LYP8zOf9ki'] | ['@KellyannePolls'] | 07:21 - 29/07/2017\n",
      "@FoxNews | Fox News | leak | Scaramucci on White House leaks: 'We're going to let people go if we have to' http://fxn.ws/2uzkOVq  | [] | [] | 20:45 - 26/07/2017\n",
      "@FoxNews | Fox News | leak | .@Scaramucci on @WhiteHouse leaks: “I think we can take dramatic steps to get rid of leaks.” pic.twitter.com/qts5Y4nOV7 | [] | ['@Scaramucci', '@WhiteHouse'] | 19:40 - 26/07/2017\n",
      "@FoxNews | Fox News | leak | Senator Lankford: Senate Intel. Committee very concerned about @WhiteHouse leaks, they're major threat to security. #TheStorypic.twitter.com/uEjORD5QgR | ['#TheStorypic.twitter.com/uEjORD5QgR'] | ['@WhiteHouse'] | 16:55 - 26/07/2017\n",
      "@FoxNews | Fox News | leak | .@Scaramucci confirms that Attorney General Sessions will announce formal probe of intel leaks. pic.twitter.com/W5fb07F42p | [] | ['@Scaramucci'] | 08:18 - 26/07/2017\n",
      "@FoxNews | Fox News | leak | .@EricTrump on leaks: “It is the greatest witch hunt of all time.” #FoxandFriendspic.twitter.com/wl8rkjrLDv | ['#FoxandFriendspic.twitter.com/wl8rkjrLDv'] | ['@EricTrump'] | 05:18 - 26/07/2017\n",
      "@FoxNews | Fox News | leak | .@EricTrump on leaks. “It’s disheartening for me to watch the pile-on to [@POTUS] with nonsense Russia investigations.” #FoxandFriendspic.twitter.com/EHGJrkm3il | ['#FoxandFriendspic.twitter.com/EHGJrkm3il'] | ['@EricTrump', '@POTUS]'] | 05:13 - 26/07/2017\n",
      "@FoxNews | Fox News | leak | .@Scaramucci on leaks: \"There seems to be some political holdovers from the Obama administration that are not helping.\" #FoxandFriendspic.twitter.com/5XwLgGDb6d | ['#FoxandFriendspic.twitter.com/5XwLgGDb6d'] | ['@Scaramucci'] | 04:36 - 26/07/2017\n",
      "@FoxNews | Fox News | leak | Sessions to announce investigations into intelligence leaks: source http://fxn.ws/2uW8tf0 pic.twitter.com/JJTerEmhUW | [] | [] | 00:06 - 26/07/2017\n",
      "@FoxNews | Fox News | leak | .@Scaramucci: \"I will take drastic action to stop the leaks.\" Full @FoxNewsSunday interview - Part 1. http://fxn.ws/2uVzcsu pic.twitter.com/pbmVP8x9uP | [] | ['@Scaramucci:', '@FoxNewsSunday'] | 14:38 - 23/07/2017\n",
      "@FoxNews | Fox News | leak | .@KellyannePolls: \"The only crimes so far are the leaks.\" http://bit.ly/2eG3QiG pic.twitter.com/PghbMQgUsx | [] | ['@KellyannePolls:'] | 14:32 - 23/07/2017\n",
      "@FoxNews | Fox News | leak | Scaramucci vows to take 'drastic action' to stop White House leaks http://fxn.ws/2vNsMYS pic.twitter.com/DP2YDOzvZF | [] | [] | 08:28 - 23/07/2017\n",
      "@FoxNews | Fox News | leak | Trump attacks Post story on Sessions, says 'illegal leaks' must stop http://fxn.ws/2vL0bn0  | [] | [] | 04:37 - 22/07/2017\n",
      "@FoxNews | Fox News | leak | .@nedryun on White House leaks: This is not whistleblowing. This is weaponizing classified info to undermine the duly-elected @POTUS #Tuckerpic.twitter.com/gvQN3kx8XG | ['#Tuckerpic.twitter.com/gvQN3kx8XG'] | ['@nedryun', '@POTUS'] | 17:21 - 21/07/2017\n",
      "@FoxNews | Fox News | leak | .@JaySekulow: Obama Admin Still Needs to Answer for Russia, Intelligence Leaks\n",
      "http://insider.foxnews.com/2017/06/30/jay-sekulow-new-york-times-correction-russia-leaks-president-trump-obama-admin … | [] | ['@JaySekulow:'] | 11:53 - 30/06/2017\n",
      "@FoxNews | Fox News | leak | Trump Attorney Calls for Comey to Be Investigated for 'Illegal' Memo Leak\n",
      "http://insider.foxnews.com/2017/06/22/trump-attorney-jay-sekulow-james-comey-must-be-investigated-illegal-memo-leak … | [] | [] | 07:59 - 22/06/2017\n",
      "@FoxNews | Fox News | leak | .@mercedesschlapp: \"Leaks coming from a special counsel - that basically compromises the investigation in and of itself.\" #Outnumberedpic.twitter.com/cYXDWxeG1b | ['#Outnumberedpic.twitter.com/cYXDWxeG1b'] | ['@mercedesschlapp:'] | 09:36 - 21/06/2017\n",
      "@FoxNews | Fox News | leak | .@TuckerCarlson: 'Strategic Leaks' Are 'An Utter Perversion of Our Gov't System' http://bit.ly/2rtuEna  | #Tuckerpic.twitter.com/ruuRGH0Lbi | ['#Tuckerpic.twitter.com/ruuRGH0Lbi'] | ['@TuckerCarlson:'] | 17:22 - 13/06/2017\n",
      "@FoxNews | Fox News | leak | AG Sessions: Some of the leaks are extraordinarily damaging to U.S. security. Read more: http://fxn.ws/2rsfpL3   | #SessionsHearingpic.twitter.com/nWWrnQ2Knj | ['#SessionsHearingpic.twitter.com/nWWrnQ2Knj'] | [] | 14:10 - 13/06/2017\n",
      "@FoxNews | Fox News | leak | On \"The Cost of Freedom,\" Ben Stein gave his unvarnished take on President @realDonaldTrump, James Comey, and leaks. pic.twitter.com/9LWLmZn9So | [] | ['@realDonaldTrump,'] | 06:33 - 11/06/2017\n",
      "@FoxNews | Fox News | leak | President @realDonaldTrump says Comey leaks are the real issue, in Sunday morning Twitter flurry http://fxn.ws/2rZk0q2 pic.twitter.com/0PEf5AnV2l | [] | ['@realDonaldTrump'] | 06:08 - 11/06/2017\n",
      "@FoxNews | Fox News | leak | Ben Stein: \"Trump didn't do anything wrong. He did not order Comey to stop the investigation... These leaks are all BS.\" pic.twitter.com/uKpzjdUNTU | [] | [] | 07:40 - 10/06/2017\n",
      "@FoxNews | Fox News | leak | .@jessebwatters on Comey: \"He's supposed to hunt leakers. He's not supposed to leak himself.\" #TheFivepic.twitter.com/TDs7aaIKUu | ['#TheFivepic.twitter.com/TDs7aaIKUu'] | ['@jessebwatters'] | 18:25 - 9/06/2017\n",
      "@FoxNews | Fox News | leak | .@ericbolling: 'Appalling' That Comey Would Leak Trump Memo\n",
      "http://insider.foxnews.com/2017/06/09/eric-bolling-appalling-james-comey-would-leak-president-trump-memo … | [] | ['@ericbolling:'] | 15:23 - 9/06/2017\n",
      "@FoxNews | Fox News | leak | .@trish_regan: Comey's 'Disturbing' Leak Shows Americans How the Swamp Works\n",
      "http://insider.foxnews.com/2017/06/09/trish-regan-james-comeys-disturbing-leak-shows-americans-how-swamp-works … | [] | ['@trish_regan:'] | 09:39 - 9/06/2017\n",
      "@FoxNews | Fox News | leak | Bossie: Comey's 'Political' Leaks 'Possibly Illegal, Definitely Unethical'\n",
      "http://insider.foxnews.com/2017/06/09/david-bossie-comey-leaks-possibly-illegal-definitely-unethical … | [] | [] | 07:17 - 9/06/2017\n",
      "@FoxNews | Fox News | leak | Reality Winner: Woman charged with top-secret leak denied bond\n",
      " http://fxn.ws/2sku93d  | [] | [] | 17:04 - 8/06/2017\n",
      "@FoxNews | Fox News | leak | .@KarlRove: It sounds to me like [Comey said], 'How am I going to get revenge on that SOB in the Oval Office?' & decided to leak accordingly pic.twitter.com/haXsGJO5VM | [] | ['@KarlRove:'] | 16:55 - 8/06/2017\n",
      "@FoxNews | Fox News | leak | .@WilliamJBennett: \"Leaks are...probably the only indictable offense in all of this and it turns out Comey is a leaker.\" #TheStorypic.twitter.com/x9GwoY1rfR | ['#TheStorypic.twitter.com/x9GwoY1rfR'] | ['@WilliamJBennett:'] | 16:51 - 8/06/2017\n",
      "@FoxNews | Fox News | leak | .@jasoninthehouse on intel leaks: \"I want people in handcuffs and I want to see people behind bars.\" #TheStory http://fxn.ws/2rXZKb5 pic.twitter.com/I8AtrVdKHr | ['#TheStory'] | ['@jasoninthehouse'] | 16:47 - 5/06/2017\n",
      "@FoxNews | Fox News | leak | On \"FOX & Friends Weekend,\" @newtgingrich had an idea of how to stop the leaks plaguing the Trump Administration. pic.twitter.com/syL78PulcP | [] | ['@newtgingrich'] | 13:35 - 28/05/2017\n",
      "@FoxNews | Fox News | leak | .@newtgingrich: \"You start putting a few people in jail, you'll see the leaks dry up dramatically.\" pic.twitter.com/K5SFp8WXvD | [] | ['@newtgingrich:'] | 10:16 - 28/05/2017\n",
      "@FoxNews | Fox News | leak | Earlier today, President @realDonaldTrump tweeted a new theory about the origin of the leaks plaguing his administration. pic.twitter.com/lak6PjVkfY | [] | ['@realDonaldTrump'] | 08:28 - 28/05/2017\n",
      "@FoxNews | Fox News | leak | .@jessebwatters on intel leaks: \"It doesn't make the United States look trustworthy.\" #TheFivepic.twitter.com/dq5qZkxGe5 | ['#TheFivepic.twitter.com/dq5qZkxGe5'] | ['@jessebwatters'] | 18:17 - 25/05/2017\n",
      "@FoxNews | Fox News | leak | .@jessebwatters on leaks in Manchester attack investigation:\"The leakers have now overplayed their hand.\" #TheFivepic.twitter.com/nUHbBj2Yc7 | ['#TheFivepic.twitter.com/nUHbBj2Yc7'] | ['@jessebwatters'] | 18:10 - 25/05/2017\n",
      "@FoxNews | Fox News | leak | .@POTUS orders investigation of leaks after British halt intel sharing. pic.twitter.com/D36OvlPo81 | [] | ['@POTUS'] | 11:03 - 25/05/2017\n",
      "@FoxNews | Fox News | leak | .@POTUS on Manchester leaks. pic.twitter.com/gQ1vnENKaK | [] | ['@POTUS'] | 08:56 - 25/05/2017\n",
      "@FoxNews | Fox News | leak | Karl Rove Names Most Likely Source of @WhiteHouse Leaks (via @FoxBusiness)http://www.foxbusiness.com/politics/2017/05/19/karl-rove-names-most-likely-source-white-house-leaks.html … | [] | ['@WhiteHouse', '@FoxBusiness)http://www.foxbusiness.com/politics/2017/05/19/karl-rove-names-most-likely-source-white-house-leaks.html\\xa0…'] | 11:28 - 21/05/2017\n",
      "@FoxNews | Fox News | leak | .@RichardGrenell on @WhiteHouse leaks: \"They are not whistleblowers, these leakers. They're not speaking truth to power. This is politics.\" pic.twitter.com/d0VYpMrwDV | [] | ['@RichardGrenell', '@WhiteHouse'] | 19:49 - 19/05/2017\n",
      "@FoxNews | Fox News | leak | .@KatiePavlich on WH leaks: \"[It's] Obama holdovers who are issuing these leaks out of political reasons to take down @POTUS.\" #TheStorypic.twitter.com/aelbxkvGXV | ['#TheStorypic.twitter.com/aelbxkvGXV'] | ['@KatiePavlich', '@POTUS.\"'] | 16:51 - 18/05/2017\n",
      "@FoxNews | Fox News | leak | National Security Adviser McMaster: “I think national security is put at risk by this leak and by leaks like this.” http://fxn.ws/2qo9NV3 pic.twitter.com/EGlAkLSeGW | [] | [] | 09:14 - 16/05/2017\n",
      "@FoxNews | Fox News | leak | McMaster: It's incumbent on all of us to take a look at how this leak and other breaches have occurred. pic.twitter.com/K7fJcBC0kq | [] | [] | 09:11 - 16/05/2017\n",
      "@FoxNews | Fox News | leak | .@seanhannity: 'Enough with the self-serving WH leaks' | #Hannity http://bit.ly/2rk8i7U pic.twitter.com/Sy949Ji9V0 | ['#Hannity'] | ['@seanhannity:'] | 19:16 - 15/05/2017\n",
      "@FoxNews | Fox News | leak | .@jessebwatters on leaks: \"If you're a disloyal person, you sing to @washingtonpost. If you're a loyal person, you take it to your superior\"pic.twitter.com/wZYLpYVHoM | [] | ['@jessebwatters', '@washingtonpost.'] | 18:18 - 15/05/2017\n",
      "@FoxNews | Fox News | leak | .@TuckerCarlson to @RepSeanMaloney: You're saying it's ok for an intel agency to listen to an American citizen...& then leak it to the press pic.twitter.com/xcWKvu4nJL | [] | ['@TuckerCarlson', '@RepSeanMaloney:'] | 18:14 - 31/03/2017\n",
      "@FoxNews | Fox News | leak | .@PressSec: \"Someone who is cleared to share classified information with somebody else cleared is not a leak.\" http://fxn.ws/2nFduVl pic.twitter.com/s8vt5d8dpf | [] | ['@PressSec:'] | 11:16 - 27/03/2017\n",
      "@FoxNews | Fox News | leak | .@JaySekulow: “The leak of this information is a violation, it’s a felony. You go to jail for up to 5 years per episode.” #Hannitypic.twitter.com/wCmkbGIlP5 | ['#Hannitypic.twitter.com/wCmkbGIlP5'] | ['@JaySekulow:'] | 19:40 - 24/03/2017\n",
      "@FoxNews | Fox News | leak | .@DevinNunes: “The lack of a leak investigation is quite concerning. We need to make sure that these leaks are being tracked down.” #Hannitypic.twitter.com/BSVwPP2NuM | ['#Hannitypic.twitter.com/BSVwPP2NuM'] | ['@DevinNunes:'] | 19:42 - 23/03/2017\n",
      "@FoxNews | Fox News | leak | .@PressSec on intel leaks: There's a reason that we have security clearances [&] classify info & it's to protect this country & our people. pic.twitter.com/TAwyoB1X4p | [] | ['@PressSec'] | 17:21 - 23/03/2017\n",
      "@FoxNews | Fox News | leak | .@seanhannity: “Comey admitted it is illegal to leak classified intelligence, so why hasn’t he found the person or people responsible?” pic.twitter.com/f1xOa73SgV | [] | ['@seanhannity:'] | 19:06 - 20/03/2017\n",
      "@FoxNews | Fox News | leak | President Trump talks health care, taxes and leaks on 'Watters' World' http://fxn.ws/2n2qkfT pic.twitter.com/TNKPzJ1h63 | [] | [] | 19:05 - 18/03/2017\n",
      "@FoxNews | Fox News | leak | .@POTUS on tax return leak: \"I have no idea where they got it, but it's illegal.\" #Tuckerpic.twitter.com/UFnFLPrH24 | ['#Tuckerpic.twitter.com/UFnFLPrH24'] | ['@POTUS'] | 18:02 - 15/03/2017\n",
      "@FoxNews | Fox News | leak | Trump calls tax return leak 'illegal,' thinks MSNBC report is 'a disgrace'  http://fxn.ws/2mPiwOs pic.twitter.com/h982sYAp0i | [] | [] | 13:55 - 15/03/2017\n",
      "@FoxNews | Fox News | leak | WATCH: @RandPaul Calls Out @SenSanders's Tax Rate After Leak of @POTUS's 2005 Returnhttp://insider.foxnews.com/2017/03/15/rand-paul-calls-out-bernie-sanders-tax-rate-after-leak-trumps-returns … | [] | ['@RandPaul', \"@SenSanders's\", \"@POTUS's\"] | 07:41 - 15/03/2017\n",
      "@FoxNews | Fox News | leak | .@seanspicer: \"We need to be aggressively pursuing those who leak or share other classified or other detrimental information.\" @JudgeJeaninepic.twitter.com/TqX5CnzYz7 | [] | ['@seanspicer:', '@JudgeJeaninepic.twitter.com/TqX5CnzYz7'] | 07:45 - 12/03/2017\n",
      "@FoxNews | Fox News | leak | .@KellyannePolls on frequent @POTUS concern: \"The really frustrating part are all the leaks coming from intel & security sources.\" pic.twitter.com/p9y97j7BQR | [] | ['@KellyannePolls', '@POTUS'] | 17:14 - 10/03/2017\n",
      "@FoxNews | Fox News | leak | .@seanhannity: @BarackObama Must Answer 'Very Serious Questions' About Wiretaps, Leaks #Hannityhttp://insider.foxnews.com/2017/03/08/sean-hannity-monologue-wikileaks-cia-release-leaks-trump-tower-wiretap-obama … | ['#Hannityhttp://insider.foxnews.com/2017/03/08/sean-hannity-monologue-wikileaks-cia-release-leaks-trump-tower-wiretap-obama\\xa0…'] | ['@seanhannity:', '@BarackObama'] | 19:37 - 8/03/2017\n",
      "@FoxNews | Fox News | leak | .@oreillyfactor: ISIS, Al Qaeda and other killers now know how the U.S. is tracking them. Therefore, the leaks are a treasonous act. pic.twitter.com/KQsY7z9Bbh | [] | ['@oreillyfactor:'] | 17:04 - 8/03/2017\n",
      "@FoxNews | Fox News | leak | .@seanspicer: 'We Will Go After People Who Leak Classified Information'\n",
      "http://insider.foxnews.com/2017/03/08/sean-spicer-white-house-press-conference-wikileaks-release-cia … | [] | ['@seanspicer:'] | 12:30 - 8/03/2017\n",
      "@FoxNews | Fox News | leak | .@SenTomCotton: These leaks-regardless the contents of them-are damaging to natl security & raise the prospect of serious criminal behavior. pic.twitter.com/lxlHAINa15 | [] | ['@SenTomCotton:'] | 17:35 - 7/03/2017\n",
      "@FoxNews | Fox News | leak | .@seanhannity: [@BarackObama] wanted as much info...available to his appointed deep-state shadow govt officials so they could...leak it. pic.twitter.com/TwEYNnQegH | [] | ['@seanhannity:', '@BarackObama]'] | 19:14 - 6/03/2017\n",
      "@FoxNews | Fox News | leak | .@nytimes writer asks IRS to unlawfully leak @POTUS' tax returns.http://bit.ly/2lV1VWh  | [] | ['@nytimes', \"@POTUS'\"] | 14:19 - 6/03/2017\n",
      "@FoxNews | Fox News | leak | 'OBAMA'S BEHIND IT': Trump tells Fox & Friends ex-president has role in leaks, protests http://fxn.ws/2l7SO8s  | [] | [] | 06:12 - 28/02/2017\n",
      "@FoxNews | Fox News | leak | 'It's Politics': Trump says Obama is behind protests and 'possibly' the leaks http://insider.foxnews.com/2017/02/28/trump-obama-behind-protests-leaks-fox-friends-interview … | [] | [] | 05:51 - 28/02/2017\n",
      "@FoxNews | Fox News | leak | .@Judgenap: The leaks by the intelligence community...those leaks are criminal leaks and...probably the subject of investigations by the FBI pic.twitter.com/mJYZkDq9Cm | [] | ['@Judgenap:'] | 16:24 - 27/02/2017\n",
      "@FoxNews | Fox News | leak | .@AmbJohnBolton: \"I think the leaks are a serious threat to national security.\" pic.twitter.com/lEr6Pq6u0o | [] | ['@AmbJohnBolton:'] | 13:36 - 24/02/2017\n",
      "@FoxNews | Fox News | leak | .@jessebwatters on intel leaks: “The President right now is dealing with forces beyond his control…He’s fighting an enemy from within.” pic.twitter.com/e4XF4HvAJZ | [] | ['@jessebwatters'] | 17:26 - 17/02/2017\n",
      "@FoxNews | Fox News | leak | .@JudgeJeanine: Obama 'Leftovers' Are Behind Leaks and Must Be Prosecuted\n",
      "http://insider.foxnews.com/2017/02/17/judge-jeanine-obama-admin-leftovers-are-behind-leaks-and-must-be-prosecuted … | [] | ['@JudgeJeanine:'] | 07:13 - 17/02/2017\n",
      "@FoxNews | Fox News | leak | .@POTUS, today: \"I've actually called @TheJusticeDept to look into the leaks. Those are criminal leaks.\" #SpecialReportpic.twitter.com/0AILEL0lbH | ['#SpecialReportpic.twitter.com/0AILEL0lbH'] | ['@POTUS,', '@TheJusticeDept'] | 15:36 - 16/02/2017\n",
      "@FoxNews | Fox News | leak | Trump: The Leaks Are Real, But the News Is Fake\n",
      "http://insider.foxnews.com/2017/02/16/president-trump-russia-michael-flynn-reports-leaks-fake-news-press … | [] | [] | 12:04 - 16/02/2017\n",
      "@FoxNews | Fox News | leak | Joe Digenova on intl leaks: “I can assure you that with a reasonable prosecutor, you can find out who disclosed this information.” #Hannitypic.twitter.com/gTB8RkxLmy | ['#Hannitypic.twitter.com/gTB8RkxLmy'] | [] | 19:14 - 15/02/2017\n",
      "@FoxNews | Fox News | leak | .@RepPeteKing: \"The leak was wrong. Whoever did it should be prosecuted to the fullest extent of the law.\" pic.twitter.com/MT3ajCxALU | [] | ['@RepPeteKing:'] | 11:36 - 15/02/2017\n",
      "@FoxNews | Fox News | leak | “Michael Flynn is a wonderful man. I think he's been treated very, very unfairly by the media…as I call it the fake media” - @POTUS on leaks pic.twitter.com/9aRhDqQESg | [] | ['@POTUS'] | 09:55 - 15/02/2017\n",
      "@FoxNews | Fox News | leak | .@JMfreespeech: \"There may be... journalists who have to go to jail to protect sources if @POTUS is serious about cracking down on leaks.\" pic.twitter.com/lEXp0mxSJF | [] | ['@JMfreespeech:', '@POTUS'] | 07:34 - 15/02/2017\n",
      "@FoxNews | Fox News | leak | 'VERY UN-AMERICAN': Trump blasts US intel community over 'illegal' leaks http://fxn.ws/2lPdb7e  by @CDerespinapic.twitter.com/4y95bamcVO | [] | ['@CDerespinapic.twitter.com/4y95bamcVO'] | 06:20 - 15/02/2017\n",
      "@FoxNews | Fox News | leak | .@KellyannePolls: Leaks Are 'Extremely Concerning' & Trump Is Taking Them Seriously #Hannityhttp://insider.foxnews.com/2017/02/14/kellyanne-conway-hannity-michael-flynn-leaks-president-trump … | ['#Hannityhttp://insider.foxnews.com/2017/02/14/kellyanne-conway-hannity-michael-flynn-leaks-president-trump\\xa0…'] | ['@KellyannePolls:'] | 19:45 - 14/02/2017\n",
      "@FoxNews | Fox News | leak | .@RichardGrenell on intl leaks: “There needs to be some mature Congressional Reps from both sides of the aisle to go in and crack down.” pic.twitter.com/A6mz42aFXh | [] | ['@RichardGrenell'] | 19:39 - 14/02/2017\n",
      "@FoxNews | Fox News | leak | .@RichardGrenell on intel leaks: “It is really outrageous to have this activity going on in our intel community.” #Hannitypic.twitter.com/LiyrXkrfrn | ['#Hannitypic.twitter.com/LiyrXkrfrn'] | ['@RichardGrenell'] | 19:38 - 14/02/2017\n",
      "@FoxNews | Fox News | leak | .@KellyannePolls: “We’re very concerned about leaks, particularly as goes intelligence and security information. It’s extremely concerning.” pic.twitter.com/88Szd8PVoe | [] | ['@KellyannePolls:'] | 19:25 - 14/02/2017\n",
      "@FoxNews | Fox News | leak | .@EliLake on intelligence leaks: ”This is the kind of thing that happens in banana republics.” #Hannitypic.twitter.com/rameCJLI57 | ['#Hannitypic.twitter.com/rameCJLI57'] | ['@EliLake'] | 19:10 - 14/02/2017\n",
      "@FoxNews | Fox News | leak | .@IngrahamAngle on Leaks: 'This Is the Stuff Police States Do' #SpecialReporthttp://insider.foxnews.com/2017/02/14/laura-ingraham-charles-krauthammer-michael-flynn-leaks-trump-admin … | ['#SpecialReporthttp://insider.foxnews.com/2017/02/14/laura-ingraham-charles-krauthammer-michael-flynn-leaks-trump-admin\\xa0…'] | ['@IngrahamAngle'] | 19:09 - 14/02/2017\n",
      "@FoxNews | Fox News | leak | .@RepPeteKing: Leak that led to Gen. Flynn’s resignation is a ‘criminal action’ #First100http://insider.foxnews.com/2017/02/14/leaked-michael-flynn-wiretap-criminal-action-rep-peter-king-says-donald-trump … | ['#First100http://insider.foxnews.com/2017/02/14/leaked-michael-flynn-wiretap-criminal-action-rep-peter-king-says-donald-trump\\xa0…'] | ['@RepPeteKing:'] | 18:38 - 14/02/2017\n",
      "@FoxNews | Fox News | leak | .@RepPeteKing: Leaks against Gen. Flynn represent criminal act. #First100pic.twitter.com/mB5DEA6b1W | ['#First100pic.twitter.com/mB5DEA6b1W'] | ['@RepPeteKing:'] | 16:09 - 14/02/2017\n",
      "@FoxNews | Fox News | leak | .@PressSec: \"When we have government employees that are entrusted with this and then leak it out, that undermines our national security.\" pic.twitter.com/1KhciTk5XV | [] | ['@PressSec:'] | 10:49 - 14/02/2017\n",
      "@FoxNews | Fox News | leak | Conway suggests Tillerson's vow to 'change' State will also address Trump White House leaks http://fxn.ws/2kHpc0n pic.twitter.com/vXiOujNFFP | [] | [] | 11:55 - 5/02/2017\n",
      "@FoxNews | Fox News | leak | Ben Collins: \"@TheDemocrats, that have been so concerned about hacking...just released a guy that gave one of the largest leaks to Assange.\" pic.twitter.com/skIn3GkFCN | [] | ['@TheDemocrats,'] | 18:22 - 17/01/2017\n",
      "@FoxNews | Fox News | leak | .@oreillyfactor: “I think @realDonaldTrump is correct. If there is a leak in the CIA, DIA, NSA to the press, that’s dangerous for all of us” pic.twitter.com/VvTUnTzpPY | [] | ['@oreillyfactor:', '@realDonaldTrump'] | 17:26 - 11/01/2017\n",
      "@FoxNews | Fox News | leak | General's guilty plea in leak probe fuels double-standard claims by Clinton critics  http://fxn.ws/2exjTKF pic.twitter.com/Rij5SibANv | [] | [] | 20:06 - 20/10/2016\n",
      "@FoxNews | Fox News | leak | Jake Tapper on alleged leak of townhall question. #KellyFilepic.twitter.com/LwIUIlLiag | ['#KellyFilepic.twitter.com/LwIUIlLiag'] | [] | 18:27 - 14/10/2016\n",
      "@FoxNews | Fox News | leak | Podesta leaks show Clinton email linking Saudi Arabia, Qatar to ISIS  http://fxn.ws/2e44kKd pic.twitter.com/83XTPqGVDs | [] | [] | 13:40 - 11/10/2016\n",
      "@FoxNews | Fox News | leak | BREAKING NEWS: Report: @realDonaldTrump Vows Not to Quit Race After Lewd #TrumpTapes Leak. http://bit.ly/2dAXlNY pic.twitter.com/l7mw2iRZNj | ['#TrumpTapes'] | ['@realDonaldTrump'] | 09:15 - 8/10/2016\n",
      "@FoxNews | Fox News | leak | Leaks show Clinton called for 'open trade' and 'open borders' in private, paid speeches http://fxn.ws/2dU4Hfm  | [] | [] | 23:28 - 7/10/2016\n",
      "@FoxNews | Fox News | leak | Julian Assange on planned leak before election: \"People...have the right to understand who it is they're electing.\" pic.twitter.com/SXGgec2O1H | [] | [] | 18:18 - 24/08/2016\n",
      "@FoxNews | Fox News | leak | .@realDonaldTrump on #DNC email leak: “I guarantee we’ll find the 33,000 emails.” pic.twitter.com/evQkxGQ3yA | ['#DNC'] | ['@realDonaldTrump'] | 12:47 - 25/07/2016\n",
      "@FoxNews | Fox News | leak | Rio Athletes Village faces leaks, power outages; Australia refuses to move in http://fxn.ws/2aaPq6K pic.twitter.com/MwpIp4UmbK | [] | [] | 16:20 - 24/07/2016\n",
      "@FoxNews | Fox News | leak | Ex-Attorney General Holder: Snowden did 'public service' with NSA leaks, but should still be punished http://fxn.ws/1TUf13i  | [] | [] | 23:25 - 30/05/2016\n",
      "@FoxNews | Fox News | leak | Sue Carswell on 'John Miller' tape: \"I didn't leak the tape, and there were two people on the conversation.\" pic.twitter.com/oIjry09MEA | [] | [] | 18:35 - 13/05/2016\n",
      "@FoxNews | Fox News | leak | 'Harry Potter' star Emma Watson named in latest Panama Papers leak http://fxn.ws/1qcVZJr  | [] | [] | 22:52 - 10/05/2016\n",
      "@FoxNews | Fox News | leak | Massive leak claims to reveal details of world leaders' offshore financial dealings http://fxn.ws/1S1KZVZ  | [] | [] | 02:02 - 4/04/2016\n",
      "@FoxNews | Fox News | leak | Hackers target Donald Trump, claim to leak his Social Security number #FNSciTech |http://fxn.ws/1UH250g  | ['#FNSciTech'] | [] | 12:40 - 18/03/2016\n",
      "@FoxNews | Fox News | leak | Cops arrest teen for hack and leak of DHS, FBI data http://fxn.ws/1KfYfcz pic.twitter.com/LSEQjBMuk0 | [] | [] | 20:47 - 12/02/2016\n",
      "@FoxNews | Fox News | leak | New York officials to investigate leak at nuclear power plant http://fxn.ws/20Bx7ft pic.twitter.com/0xpNcyNmCz | [] | [] | 00:25 - 7/02/2016\n",
      "@FoxNews | Fox News | leak | China Mobile leaks details of Samsung Galaxy S7  http://fxn.ws/1ROhL1G  via @fxnscitechpic.twitter.com/RzvRoA70Xa | [] | ['@fxnscitechpic.twitter.com/RzvRoA70Xa'] | 23:31 - 28/12/2015\n",
      "@FoxNews | Fox News | leak | Senators probe possible leaks in Clinton email review http://fxn.ws/1OEnbsu  via @foxnewspoliticspic.twitter.com/rJej2jhuvl | [] | ['@foxnewspoliticspic.twitter.com/rJej2jhuvl'] | 20:20 - 1/12/2015\n",
      "@FoxNews | Fox News | leak | Pope pledges to continue reforms in face of leaks, says stealing documents was 'a crime'  http://fxn.ws/1WJviWj pic.twitter.com/DbEXaXvJXM | [] | [] | 18:10 - 8/11/2015\n",
      "@FoxNews | Fox News | leak | Hackers leak data on millions of users of adultery website Ashley Madison http://fxn.ws/1hLXZ7U  | [] | [] | 00:48 - 19/08/2015\n",
      "@FoxNews | Fox News | leak | Security breach? Kenyan airline official leaks Obama's exact itinerary http://fxn.ws/1HHhdnv pic.twitter.com/CRrwaWWmdl | [] | [] | 17:52 - 21/07/2015\n",
      "@FoxNews | Fox News | leak | BREAKING: Judge sentences ex-CIA Director Petraeus to 2 years probation for military leak. http://fxn.ws/1FhCKTW pic.twitter.com/LzWH3VzUs3 | [] | [] | 12:26 - 23/04/2015\n",
      "@FoxNews | Fox News | leak | #Sony hack: Execs make racist jokes about #Obama; A-listers slam those publishing leaks http://fxn.ws/1sgl7zE pic.twitter.com/innwqPF9iu | ['#Sony', '#Obama;'] | [] | 08:40 - 11/12/2014\n",
      "@FoxNews | Fox News | leak | 'Intentional' chlorine gas leak at Chicago-area hotel hosting 'furries' convention sickens 19 http://fxn.ws/12V0LjU pic.twitter.com/sW2AQFYVlC | [] | [] | 20:23 - 7/12/2014\n",
      "@FoxNews | Fox News | leak | Snowden leaks help ISIS evade US intel, report says http://fxn.ws/WkqfDz  via @foxnewspolitics | [] | ['@foxnewspolitics'] | 20:31 - 4/09/2014\n",
      "@FoxNews | Fox News | leak | Leak at #Fukushima nuclear plant threatens dangerous meltdown http://fxn.ws/1kx8K8z pic.twitter.com/jzsSwNpdOY | ['#Fukushima'] | [] | 13:06 - 7/07/2014\n",
      "@FoxNews | Fox News | leak | UPDATE: 1 dead, 28 others hospitalized after carbon monoxide leak at NY mall http://fxn.ws/OoF1FW  | [] | [] | 21:31 - 22/02/2014\n",
      "@FoxNews | Fox News | leak | Ex-CIA employee reportedly admits being #NSA leak source: http://fxn.ws/18kgSrY  | ['#NSA'] | [] | 13:28 - 9/06/2013\n",
      "@FoxNews | Fox News | leak | Attorney General Eric #Holder urges attorneys to still 'aggressively' pursue media leaks: http://fxn.ws/10Yts7H  | ['#Holder'] | [] | 07:03 - 5/06/2013\n",
      "@FoxNews | Fox News | leak | Questions raised over Obama administration claim that #AP leak put Americans at risk http://fxn.ws/10XNTpJ  | ['#AP'] | [] | 00:52 - 18/05/2013\n",
      "@FoxNews | Fox News | leak | #UPDATE: Source tells @MikeLevineFNC that Attorney General Holder has recused himself from leak investigation related to @AP | ['#UPDATE:'] | ['@MikeLevineFNC', '@AP'] | 09:33 - 14/05/2013\n",
      "@FoxNews | Fox News | leak | Spacewalking repair halts International Space Station leak -- for now\n",
      "http://fxn.ws/10q7QzF  via @fxnscitech | [] | ['@fxnscitech'] | 12:59 - 11/05/2013\n",
      "@FoxNews | Fox News | leak | WATCH LIVE: Spacewalk to fix International Space Station leak http://bit.ly/XN7sKE  #ISS | ['#ISS'] | [] | 07:13 - 11/05/2013\n",
      "@FoxNews | Fox News | leak | Recent security leaks putting US lives at risk, Special Ops chief says http://fxn.ws/MnJH86  | [] | [] | 06:26 - 26/07/2012\n",
      "@FoxNews | Fox News | leak | #GOP senators pressure AG Holder to appoint a special counsel to investigate potential national security leaks http://fxn.ws/Mr7mFK  | ['#GOP'] | [] | 09:00 - 26/06/2012\n",
      "@FoxNews | Fox News | leak | 'You violated the public trust.' Sen. Cornyn calls for AG Holder to resign amid challenges over leak probe http://fxn.ws/KPLFll  | [] | [] | 11:10 - 12/06/2012\n",
      "@FoxNews | Fox News | leak | AG Holder: Prosecutors have authority in leak probe that reaches into White House http://fxn.ws/KGzhUD  | [] | [] | 08:46 - 9/06/2012\n",
      "@FoxNews | Fox News | leak | Pope's butler questioned in leaks scandal probe, one of the gravest security breaches in recent Vatican history http://fxn.ws/M99faI  | [] | [] | 09:00 - 5/06/2012\n",
      "@FoxNews | Fox News | leak | Explosion is reported at the #Marcoule nuclear plant in southern #France with risk of a radioactive leak, emergency officials say | ['#Marcoule', '#France'] | [] | 04:51 - 12/09/2011\n",
      "@FoxNews | Fox News | leak | Fears of a #nuclear meltdown rising as #Japan confirms #radiation leak following  explosion at  nuclear power plant crippled by #earthquake | ['#nuclear', '#Japan', '#radiation', '#earthquake'] | [] | 02:48 - 12/03/2011\n",
      "@FoxNews | Fox News | leak | Is the worst over? BP says its 'static kill' has plugged the oil leak with mud http://fxn.ws/9V7gal | [] | [] | 04:13 - 4/08/2010\n",
      "@FoxNews | Fox News | leak | BREAKING: Wall Street Journal reports that investigators tie GI to leak of Afghan War documents http://fxn.ws/dle0HM | [] | [] | 08:47 - 29/07/2010\n",
      "@FoxNews | Fox News | leak | BREAKING: Coast Guard responding at scene of new oil leak in Gulf of Mexico http://fxn.ws/bZE22R | [] | [] | 09:45 - 27/07/2010\n",
      "@FoxNews | Fox News | leak | Between BP's leak and the Lockerbie bomber's freedom, British PM's first U.S. visit isn't looking so hot http://fxn.ws/bDVuQ4 | [] | [] | 07:06 - 20/07/2010\n",
      "@FoxNews | Fox News | leak | Bad news from BP well... Cap has sprung a leak, but U.S. official says it's not 'consequential' http://fxn.ws/awYKCl | [] | [] | 14:53 - 19/07/2010\n",
      "@FoxNews | Fox News | leak | Feds are asking: Does BP know what it's doing--and can they stop the leak in the Gulf? http://fxn.ws/cmCUtI | [] | [] | 05:28 - 24/05/2010\n",
      "@FoxNews | Fox News | leak | BREAKING: British Petroleum reportedly caps one of three oil leaks in Gulf of Mexico http://fxn.ws/c1or7p | [] | [] | 05:44 - 5/05/2010\n",
      "@FoxNews | Fox News | leak | BP begins drilling relief well near site of Gulf oil spill to plug the dangerous leak http://fxn.ws/bxstmN | [] | [] | 10:21 - 4/05/2010\n",
      "@FoxNews | Fox News | leak | Obama nominee to investigate leaks of military secrets still gets paid by NY Times http://fxn.ws/9xDEqG | [] | [] | 09:07 - 1/04/2010\n",
      "@FoxNews | Fox News | leak | BUSINESS: BP Discloses Alaskan Pipe Leak http://bit.ly/7I0t98 | [] | [] | 13:12 - 22/12/2009\n",
      "@FoxNews | Fox News | leak | ROW 2 SEAT 4: Email leaks hang over Copenhagen Climate Conference http://bit.ly/4IDW2X | [] | [] | 07:57 - 7/12/2009\n",
      "@FoxNews | Fox News | leak | WORLD: U.N. to Investigate Leak of Fudged Climate Data E-Mails http://bit.ly/5qEs0i | [] | [] | 04:42 - 4/12/2009\n",
      "@FoxNews | Fox News | leak | POLITICS: FBI Report: Cheney Uncertain During 72 Questions Over CIA Leak. http://tinyurl.com/yaunfwl | [] | [] | 22:12 - 2/11/2009\n",
      "@FoxNews | Fox News | leak | SCITECH: WATCH LIVE: NASA to Launch Delta II Rocket. With a launch pad gas leak fixed, NASA plans to... http://tinyurl.com/ybjsphr | [] | [] | 05:22 - 25/09/2009\n",
      "@FoxNews | Fox News | leak | WORLD: N.Y.-Bound Jet Returns to Germany After Oil Leak. A New York-bound Boeing 747 operated by German... http://tinyurl.com/mflglx | [] | [] | 12:17 - 19/09/2009\n",
      "@FoxNews | Fox News | leak | FOX LIFE: Investigators: Coroner's Office Did Not Leak Jacko Info. Los Angeles County sheriff's... http://tinyurl.com/lmlyac | [] | [] | 16:22 - 11/09/2009\n",
      "@FoxNews | Fox News | leak | NATIONAL: Possible Leak Detected at Chemical Weapons Depot. The Army says a low level of mustard agent... http://tinyurl.com/lshrz4 | [] | [] | 15:47 - 24/08/2009\n",
      "@FoxNews | Fox News | leak | NATIONAL: Gas Leak at Massachusetts Facility Sickens at Least 10. New Bedford authorties say about a... http://tinyurl.com/m9klpc | [] | [] | 09:47 - 3/08/2009\n",
      "@FoxNews | Fox News | leak | WORLD: Chinese Villagers Flee in Radiation Leak Panic. They fled in droves, terrified by rumors of a... http://tinyurl.com/mn672t | [] | [] | 12:12 - 20/07/2009\n",
      "@FoxNews | Fox News | leak | NATIONAL: 'Craigslist Killer' Suspect Loses Bid for Media Leak Probe. A former Boston medical student... http://tinyurl.com/nop3ux | [] | [] | 08:47 - 16/07/2009\n",
      "@FoxNews | Fox News | leak | NATIONAL: Ammonia Truck Leak in South Carolina Kills Woman. One woman has died after nearly 2,000 gallons... http://tinyurl.com/nmtnqe | [] | [] | 13:12 - 15/07/2009\n",
      "@FoxNews | Fox News | leak | SCITECH: Shuttle to Launch July 11 After Successful Leak Test. NASA will try to launch the space shuttle... http://tinyurl.com/kofjyv | [] | [] | 07:27 - 2/07/2009\n",
      "@FoxNews | Fox News | leak | NATIONAL: Ammonia Leak at N.C. Food Plant Kills 1, Injures 3. An ammonia leak at a poultry processing... http://tinyurl.com/nmw8kh | [] | [] | 12:42 - 20/06/2009\n",
      "@FoxNews | Fox News | leak | SCITECH: NASA Repairs Leak on Space Shuttle's Fuel Tank. NASA is repairing a leaky hydrogen gas line on... http://tinyurl.com/ljlc72 | [] | [] | 10:12 - 15/06/2009\n",
      "@FoxNews | Fox News | leak | NATIONAL: ATF Says Gas Leak Caused Explosion at Slim Jim Plant. At least half of a sprawling Slim Jim... http://tinyurl.com/mp6gcy | [] | [] | 14:47 - 13/06/2009\n",
      "@FoxNews | Fox News | leak | SCITECH: Hydrogen Leak Delays Saturday's Space Shuttle Launch. NASA delayed the launch of space shuttle... http://tinyurl.com/mkn8ub | [] | [] | 00:12 - 13/06/2009\n",
      "@FoxNews | Fox News | leak | NATIONAL: Passenger on Japan-Bound Flight Spots Fuel Leak. An eagle-eyed Air Force sergeant spotted a... http://tinyurl.com/qgw6go | [] | [] | 11:12 - 21/05/2009\n",
      "@FoxNews | Fox News | leak | NATIONAL: Vapor Cloud Dissipating After Ohio Chemical Leak. A large hydrochloric acid spill early at an... http://tinyurl.com/d3vwm8 | [] | [] | 11:42 - 18/04/2009\n",
      "@FoxNews | Fox News | leak | WORLD: U.K. Lawmaker Will Not Be Charged Over Gov't Leaks. A British opposition lawmaker who received... http://tinyurl.com/ckdtvc | [] | [] | 12:42 - 16/04/2009\n",
      "@FoxNews | Fox News | leak | BUSINESS: Toyota Recalls 214,500 Lexus Cars Over Possible Fuel Leak http://tinyurl.com/8s55qx | [] | [] | 13:02 - 16/01/2009\n",
      "@FoxNews | Fox News | leak | NATIONAL: 1 Dead, 4 Injured in Gas Leak Explosion in Sacramento Home http://tinyurl.com/9aetq8 | [] | [] | 10:12 - 25/12/2008\n",
      "@FoxNews | Fox News | leak | HEALTH: Carbon Monoxide Leak at School Kills 11 Girls, Sickens 1 http://tinyurl.com/635e74 | [] | [] | 05:42 - 2/12/2008\n",
      "@FoxNews | Fox News | leak | WORLD: Officials: Mexican Drug Officer Took Cartel $ to Leak Info http://tinyurl.com/6bosk2 | [] | [] | 08:47 - 21/11/2008\n",
      "@FoxNews | Fox News | leak | BUSINESS: GM Recalls 42,408 Saturns For Power Steering Fluid Leak Risk http://tinyurl.com/3whp3y | [] | [] | 09:32 - 19/09/2008\n",
      "@FoxNews | Fox News | leak | BUSINESS: Four Valero Workers Taken To Hospital After Gas Leak http://tinyurl.com/5c2m7a | [] | [] | 08:42 - 4/08/2008\n",
      "@FoxNews | Fox News | leak | POLITICS: McClellan to Testify Before House in CIA Leak Investigation http://tinyurl.com/6aoudp | [] | [] | 05:47 - 20/06/2008\n",
      "@FoxNews | Fox News | leak | POLITICS: Mukasey Targeted With House Subpoena Seeking CIA Leak Record http://tinyurl.com/5qws3m | [] | [] | 10:47 - 16/06/2008\n",
      "@FoxNews | Fox News | leak | POLITICS: Waxman to White House: Release More CIA Leak Records http://tinyurl.com/64dwa3 | [] | [] | 10:52 - 3/06/2008\n",
      "@FoxNews | Fox News | leak | ELECTIONS: Canadian Government Probes Leak of NAFTA Document in U.S. Campaign http://tinyurl.com/5ulwq6 | [] | [] | 08:02 - 24/05/2008\n",
      "@FoxNews | Fox News | leak | WORLD: 800 Checked for Radiation After Nuke Plant Leak in Spain http://tinyurl.com/5zshfd | [] | [] | 07:17 - 15/04/2008\n",
      "@FoxNews | Fox News | leak | WORLD: Portuguese Police Deny Leak in Case of Missing Madeleine http://tinyurl.com/5efs8q | [] | [] | 11:22 - 14/04/2008\n",
      "@FoxNews | Fox News | leak | BUSINESS: Older Boeing 737s to Be Inspected After Fuel Leak Reports http://tinyurl.com/344aus | [] | [] | 12:32 - 25/03/2008\n",
      "@FoxNews | Fox News | leak | NATIONAL: Penn State Reports 'Leak of Slightly Radioactive Water' http://tinyurl.com/2fy8tq | [] | [] | 17:47 - 11/10/2007\n",
      "@FoxNews | Fox News | leak | POLITICS: Intelligence Group Charges Al Qaeda Surveillance Leak http://tinyurl.com/2ebaee | [] | [] | 06:47 - 9/10/2007\n",
      "@FoxNews | Fox News | leak | NATIONAL: New York Building Explosion Blamed on Natural Gas Leak http://tinyurl.com/2bgm77 | [] | [] | 11:17 - 8/10/2007\n",
      "@FoxNews | Fox News | leak | NATIONAL: Carbon Monoxide Leak Critically Sickens 2 Va. Tech Students http://tinyurl.com/yo2o9q | [] | [] | 06:17 - 20/08/2007\n",
      "@FoxNews | Fox News | leak | WORLD: Japanese Nuclear Power Co.: Leak Is Bigger Than Announced http://tinyurl.com/23bxph | [] | [] | 04:17 - 18/07/2007\n",
      "@FoxNews | Fox News | leak | WORLD: New Possible Leak at Japanese Nuke Plant Hit by Quake http://tinyurl.com/2zx8r3 | [] | [] | 05:17 - 17/07/2007\n",
      "@FoxNews | Fox News | leak | POLITICS: Bush Acknowledges Leak in Libby Case http://tinyurl.com/2e6gd7 | [] | [] | 09:52 - 12/07/2007\n",
      "@FoxNews | Fox News | leak | POLITICS: Judge: Letters About Libby Will Be Released in CIA Leak Case http://tinyurl.com/296wmr | [] | [] | 08:47 - 31/05/2007\n",
      "@FoxNews | Fox News | leak | BUSINESS: Leak Forces BP to Cut Alaskan Oil Production http://tinyurl.com/24e8zk | [] | [] | 10:17 - 22/05/2007\n",
      "@FoxNews | Fox News | leak | NATIONAL: Natural Gas Leak Suspected in Florida Apartment Explosion http://tinyurl.com/ysqpr9 | [] | [] | 11:17 - 11/04/2007\n",
      "@FoxNews | Fox News | leak | POLITICS: Review: Military Clinics, Hospitals Beset By Mold, Leaks http://tinyurl.com/28kc4m | [] | [] | 13:47 - 21/03/2007\n",
      "\n"
     ]
    }
   ],
   "source": [
    "tweets = get_tweets('tweets_research/fox.html')\n",
    "print(get_data(tweets))"
   ]
  },
  {
   "cell_type": "code",
   "execution_count": null,
   "metadata": {
    "collapsed": true
   },
   "outputs": [],
   "source": []
  },
  {
   "cell_type": "code",
   "execution_count": null,
   "metadata": {
    "collapsed": true
   },
   "outputs": [],
   "source": []
  },
  {
   "cell_type": "code",
   "execution_count": null,
   "metadata": {
    "collapsed": true
   },
   "outputs": [],
   "source": []
  },
  {
   "cell_type": "code",
   "execution_count": null,
   "metadata": {
    "collapsed": true
   },
   "outputs": [],
   "source": []
  },
  {
   "cell_type": "code",
   "execution_count": null,
   "metadata": {
    "collapsed": true
   },
   "outputs": [],
   "source": []
  }
 ],
 "metadata": {
  "kernelspec": {
   "display_name": "Python 3",
   "language": "python",
   "name": "python3"
  },
  "language_info": {
   "codemirror_mode": {
    "name": "ipython",
    "version": 3
   },
   "file_extension": ".py",
   "mimetype": "text/x-python",
   "name": "python",
   "nbconvert_exporter": "python",
   "pygments_lexer": "ipython3",
   "version": "3.5.3"
  }
 },
 "nbformat": 4,
 "nbformat_minor": 2
}
